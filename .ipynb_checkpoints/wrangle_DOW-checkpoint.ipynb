{
 "cells": [
  {
   "cell_type": "code",
   "execution_count": 2,
   "id": "5ec49835",
   "metadata": {},
   "outputs": [],
   "source": [
    "%matplotlib inline\n",
    "\n",
    "import stumpy\n",
    "import numpy as np\n",
    "import pandas as pd\n",
    "import seaborn as sns\n",
    "import matplotlib.pyplot as plt\n",
    "import matplotlib.dates as dates\n",
    "from matplotlib.patches import Rectangle\n",
    "import datetime as dt\n",
    "\n",
    "plt.rcParams[\"figure.figsize\"] = [20,6]  # width, height\n",
    "plt.rcParams['xtick.direction'] = 'out'"
   ]
  },
  {
   "cell_type": "code",
   "execution_count": 3,
   "id": "a2100b8a",
   "metadata": {},
   "outputs": [],
   "source": [
    "df = pd.read_csv('dow_jones.csv')"
   ]
  },
  {
   "cell_type": "code",
   "execution_count": null,
   "id": "ed50acdf",
   "metadata": {},
   "outputs": [],
   "source": [
    "def prep_DOW(df):\n",
    "    df.date = pd.to_datetime(df['date'], dayfirst=True, infer_datetime_format=True)\n",
    "    df = df.set_index('date').sort_index()\n",
    "    df = df.replace('\\$',' ', regex=True)\n",
    "    df['next_weeks_close'] = df.next_weeks_close.astype('float64')\n",
    "    df['next_weeks_open'] = df.next_weeks_open.astype('float64')\n",
    "    df['open'] = df.open.astype('float64')\n",
    "    df['high'] = df.high.astype('float64')\n",
    "    df['low'] = df.low.astype('float64')\n",
    "    df['close'] = df.close.astype('float64')\n",
    "\n",
    "    return df"
   ]
  },
  {
   "cell_type": "code",
   "execution_count": null,
   "id": "819669ae",
   "metadata": {},
   "outputs": [],
   "source": []
  },
  {
   "cell_type": "code",
   "execution_count": 5,
   "id": "205ea98a",
   "metadata": {
    "scrolled": true
   },
   "outputs": [
    {
     "name": "stdout",
     "output_type": "stream",
     "text": [
      "<class 'pandas.core.frame.DataFrame'>\n",
      "DatetimeIndex: 750 entries, 2011-01-07 to 2011-06-24\n",
      "Data columns (total 15 columns):\n",
      " #   Column                              Non-Null Count  Dtype  \n",
      "---  ------                              --------------  -----  \n",
      " 0   quarter                             750 non-null    int64  \n",
      " 1   stock                               750 non-null    object \n",
      " 2   open                                750 non-null    float64\n",
      " 3   high                                750 non-null    float64\n",
      " 4   low                                 750 non-null    float64\n",
      " 5   close                               750 non-null    float64\n",
      " 6   volume                              750 non-null    int64  \n",
      " 7   percent_change_price                750 non-null    float64\n",
      " 8   percent_change_volume_over_last_wk  720 non-null    float64\n",
      " 9   previous_weeks_volume               720 non-null    float64\n",
      " 10  next_weeks_open                     750 non-null    float64\n",
      " 11  next_weeks_close                    750 non-null    float64\n",
      " 12  percent_change_next_weeks_price     750 non-null    float64\n",
      " 13  days_to_next_dividend               750 non-null    int64  \n",
      " 14  percent_return_next_dividend        750 non-null    float64\n",
      "dtypes: float64(11), int64(3), object(1)\n",
      "memory usage: 93.8+ KB\n"
     ]
    }
   ],
   "source": [
    "df = prep_DOW(df)\n",
    "df.info()"
   ]
  },
  {
   "cell_type": "code",
   "execution_count": 6,
   "id": "a718d3bb",
   "metadata": {},
   "outputs": [
    {
     "data": {
      "text/html": [
       "<div>\n",
       "<style scoped>\n",
       "    .dataframe tbody tr th:only-of-type {\n",
       "        vertical-align: middle;\n",
       "    }\n",
       "\n",
       "    .dataframe tbody tr th {\n",
       "        vertical-align: top;\n",
       "    }\n",
       "\n",
       "    .dataframe thead th {\n",
       "        text-align: right;\n",
       "    }\n",
       "</style>\n",
       "<table border=\"1\" class=\"dataframe\">\n",
       "  <thead>\n",
       "    <tr style=\"text-align: right;\">\n",
       "      <th></th>\n",
       "      <th>quarter</th>\n",
       "      <th>stock</th>\n",
       "      <th>open</th>\n",
       "      <th>high</th>\n",
       "      <th>low</th>\n",
       "      <th>close</th>\n",
       "      <th>volume</th>\n",
       "      <th>percent_change_price</th>\n",
       "      <th>percent_change_volume_over_last_wk</th>\n",
       "      <th>previous_weeks_volume</th>\n",
       "      <th>next_weeks_open</th>\n",
       "      <th>next_weeks_close</th>\n",
       "      <th>percent_change_next_weeks_price</th>\n",
       "      <th>days_to_next_dividend</th>\n",
       "      <th>percent_return_next_dividend</th>\n",
       "    </tr>\n",
       "    <tr>\n",
       "      <th>date</th>\n",
       "      <th></th>\n",
       "      <th></th>\n",
       "      <th></th>\n",
       "      <th></th>\n",
       "      <th></th>\n",
       "      <th></th>\n",
       "      <th></th>\n",
       "      <th></th>\n",
       "      <th></th>\n",
       "      <th></th>\n",
       "      <th></th>\n",
       "      <th></th>\n",
       "      <th></th>\n",
       "      <th></th>\n",
       "      <th></th>\n",
       "    </tr>\n",
       "  </thead>\n",
       "  <tbody>\n",
       "    <tr>\n",
       "      <th>2011-01-07</th>\n",
       "      <td>1</td>\n",
       "      <td>AA</td>\n",
       "      <td>15.82</td>\n",
       "      <td>16.72</td>\n",
       "      <td>15.78</td>\n",
       "      <td>16.42</td>\n",
       "      <td>239655616</td>\n",
       "      <td>3.792670</td>\n",
       "      <td>NaN</td>\n",
       "      <td>NaN</td>\n",
       "      <td>16.71</td>\n",
       "      <td>15.97</td>\n",
       "      <td>-4.428490</td>\n",
       "      <td>26</td>\n",
       "      <td>0.182704</td>\n",
       "    </tr>\n",
       "    <tr>\n",
       "      <th>2011-01-07</th>\n",
       "      <td>1</td>\n",
       "      <td>T</td>\n",
       "      <td>29.68</td>\n",
       "      <td>30.10</td>\n",
       "      <td>28.66</td>\n",
       "      <td>28.85</td>\n",
       "      <td>157834347</td>\n",
       "      <td>-2.796500</td>\n",
       "      <td>NaN</td>\n",
       "      <td>NaN</td>\n",
       "      <td>28.54</td>\n",
       "      <td>28.43</td>\n",
       "      <td>-0.385424</td>\n",
       "      <td>30</td>\n",
       "      <td>1.490470</td>\n",
       "    </tr>\n",
       "    <tr>\n",
       "      <th>2011-01-07</th>\n",
       "      <td>1</td>\n",
       "      <td>BAC</td>\n",
       "      <td>13.85</td>\n",
       "      <td>14.69</td>\n",
       "      <td>13.80</td>\n",
       "      <td>14.25</td>\n",
       "      <td>1453438639</td>\n",
       "      <td>2.888090</td>\n",
       "      <td>NaN</td>\n",
       "      <td>NaN</td>\n",
       "      <td>14.17</td>\n",
       "      <td>15.25</td>\n",
       "      <td>7.621740</td>\n",
       "      <td>54</td>\n",
       "      <td>0.070175</td>\n",
       "    </tr>\n",
       "    <tr>\n",
       "      <th>2011-01-07</th>\n",
       "      <td>1</td>\n",
       "      <td>PG</td>\n",
       "      <td>64.39</td>\n",
       "      <td>65.08</td>\n",
       "      <td>64.00</td>\n",
       "      <td>64.50</td>\n",
       "      <td>52323352</td>\n",
       "      <td>0.170834</td>\n",
       "      <td>NaN</td>\n",
       "      <td>NaN</td>\n",
       "      <td>64.40</td>\n",
       "      <td>65.53</td>\n",
       "      <td>1.754660</td>\n",
       "      <td>12</td>\n",
       "      <td>0.744186</td>\n",
       "    </tr>\n",
       "    <tr>\n",
       "      <th>2011-01-07</th>\n",
       "      <td>1</td>\n",
       "      <td>PFE</td>\n",
       "      <td>17.70</td>\n",
       "      <td>18.38</td>\n",
       "      <td>17.62</td>\n",
       "      <td>18.34</td>\n",
       "      <td>386804789</td>\n",
       "      <td>3.615820</td>\n",
       "      <td>NaN</td>\n",
       "      <td>NaN</td>\n",
       "      <td>18.22</td>\n",
       "      <td>18.34</td>\n",
       "      <td>0.658617</td>\n",
       "      <td>26</td>\n",
       "      <td>1.090510</td>\n",
       "    </tr>\n",
       "  </tbody>\n",
       "</table>\n",
       "</div>"
      ],
      "text/plain": [
       "            quarter stock   open   high    low  close      volume  \\\n",
       "date                                                                \n",
       "2011-01-07        1    AA  15.82  16.72  15.78  16.42   239655616   \n",
       "2011-01-07        1     T  29.68  30.10  28.66  28.85   157834347   \n",
       "2011-01-07        1   BAC  13.85  14.69  13.80  14.25  1453438639   \n",
       "2011-01-07        1    PG  64.39  65.08  64.00  64.50    52323352   \n",
       "2011-01-07        1   PFE  17.70  18.38  17.62  18.34   386804789   \n",
       "\n",
       "            percent_change_price  percent_change_volume_over_last_wk  \\\n",
       "date                                                                   \n",
       "2011-01-07              3.792670                                 NaN   \n",
       "2011-01-07             -2.796500                                 NaN   \n",
       "2011-01-07              2.888090                                 NaN   \n",
       "2011-01-07              0.170834                                 NaN   \n",
       "2011-01-07              3.615820                                 NaN   \n",
       "\n",
       "            previous_weeks_volume  next_weeks_open  next_weeks_close  \\\n",
       "date                                                                   \n",
       "2011-01-07                    NaN            16.71             15.97   \n",
       "2011-01-07                    NaN            28.54             28.43   \n",
       "2011-01-07                    NaN            14.17             15.25   \n",
       "2011-01-07                    NaN            64.40             65.53   \n",
       "2011-01-07                    NaN            18.22             18.34   \n",
       "\n",
       "            percent_change_next_weeks_price  days_to_next_dividend  \\\n",
       "date                                                                 \n",
       "2011-01-07                        -4.428490                     26   \n",
       "2011-01-07                        -0.385424                     30   \n",
       "2011-01-07                         7.621740                     54   \n",
       "2011-01-07                         1.754660                     12   \n",
       "2011-01-07                         0.658617                     26   \n",
       "\n",
       "            percent_return_next_dividend  \n",
       "date                                      \n",
       "2011-01-07                      0.182704  \n",
       "2011-01-07                      1.490470  \n",
       "2011-01-07                      0.070175  \n",
       "2011-01-07                      0.744186  \n",
       "2011-01-07                      1.090510  "
      ]
     },
     "execution_count": 6,
     "metadata": {},
     "output_type": "execute_result"
    }
   ],
   "source": [
    "df.head()"
   ]
  },
  {
   "cell_type": "code",
   "execution_count": null,
   "id": "3bdb8194",
   "metadata": {
    "scrolled": true
   },
   "outputs": [],
   "source": [
    "df.groupby('stock')['close'].nunique()"
   ]
  },
  {
   "cell_type": "code",
   "execution_count": null,
   "id": "5d534040",
   "metadata": {
    "scrolled": true
   },
   "outputs": [],
   "source": [
    "df = df.replace('\\$',' ', regex=True)\n",
    "df.head()"
   ]
  },
  {
   "cell_type": "code",
   "execution_count": null,
   "id": "f3bef54a",
   "metadata": {},
   "outputs": [],
   "source": [
    "df.date = pd.to_datetime(df['date'])"
   ]
  },
  {
   "cell_type": "code",
   "execution_count": null,
   "id": "0b8e3f22",
   "metadata": {},
   "outputs": [],
   "source": [
    "df = df.set_index('date').sort_index()"
   ]
  },
  {
   "cell_type": "code",
   "execution_count": null,
   "id": "88529fdd",
   "metadata": {},
   "outputs": [],
   "source": [
    "df.info()"
   ]
  },
  {
   "cell_type": "code",
   "execution_count": null,
   "id": "5a1528fc",
   "metadata": {},
   "outputs": [],
   "source": [
    "plt.suptitle('DOW Dataset', fontsize='30')\n",
    "plt.xlabel('date)"
   ]
  },
  {
   "cell_type": "code",
   "execution_count": null,
   "id": "020d868a",
   "metadata": {},
   "outputs": [],
   "source": []
  },
  {
   "cell_type": "code",
   "execution_count": 4,
   "id": "113d9de5",
   "metadata": {},
   "outputs": [],
   "source": []
  },
  {
   "cell_type": "code",
   "execution_count": null,
   "id": "b0da2ef9",
   "metadata": {},
   "outputs": [],
   "source": []
  },
  {
   "cell_type": "code",
   "execution_count": null,
   "id": "c33961cf",
   "metadata": {},
   "outputs": [],
   "source": []
  },
  {
   "cell_type": "code",
   "execution_count": null,
   "id": "f47fa023",
   "metadata": {},
   "outputs": [],
   "source": [
    "df.info()"
   ]
  }
 ],
 "metadata": {
  "kernelspec": {
   "display_name": "Python 3 (ipykernel)",
   "language": "python",
   "name": "python3"
  },
  "language_info": {
   "codemirror_mode": {
    "name": "ipython",
    "version": 3
   },
   "file_extension": ".py",
   "mimetype": "text/x-python",
   "name": "python",
   "nbconvert_exporter": "python",
   "pygments_lexer": "ipython3",
   "version": "3.9.12"
  }
 },
 "nbformat": 4,
 "nbformat_minor": 5
}
