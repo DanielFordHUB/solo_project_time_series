{
 "cells": [
  {
   "cell_type": "markdown",
   "id": "ab097dd7",
   "metadata": {},
   "source": [
    "# Forecasting Change in price percentage of IBM"
   ]
  },
  {
   "cell_type": "code",
   "execution_count": null,
   "id": "0280e754",
   "metadata": {},
   "outputs": [],
   "source": []
  },
  {
   "cell_type": "code",
   "execution_count": 2,
   "id": "8e307380",
   "metadata": {},
   "outputs": [],
   "source": [
    "import wrangle as wg"
   ]
  },
  {
   "cell_type": "code",
   "execution_count": null,
   "id": "026bacb2",
   "metadata": {},
   "outputs": [],
   "source": []
  },
  {
   "cell_type": "code",
   "execution_count": null,
   "id": "8059b273",
   "metadata": {},
   "outputs": [],
   "source": [
    "# Wrangle\n",
    "\n",
    "\n",
    "## Acquire"
   ]
  },
  {
   "cell_type": "code",
   "execution_count": 3,
   "id": "c3106c9b",
   "metadata": {},
   "outputs": [],
   "source": [
    "df = wg.get_dow()"
   ]
  },
  {
   "cell_type": "code",
   "execution_count": null,
   "id": "52cf6a78",
   "metadata": {},
   "outputs": [],
   "source": []
  }
 ],
 "metadata": {
  "kernelspec": {
   "display_name": "Python 3 (ipykernel)",
   "language": "python",
   "name": "python3"
  },
  "language_info": {
   "codemirror_mode": {
    "name": "ipython",
    "version": 3
   },
   "file_extension": ".py",
   "mimetype": "text/x-python",
   "name": "python",
   "nbconvert_exporter": "python",
   "pygments_lexer": "ipython3",
   "version": "3.9.12"
  }
 },
 "nbformat": 4,
 "nbformat_minor": 5
}
