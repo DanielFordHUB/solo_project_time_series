{
 "cells": [
  {
   "cell_type": "markdown",
   "id": "1e78eb75",
   "metadata": {},
   "source": [
    "# Forecasting Change in price percentage of IBM\n",
    "\n",
    "#### By: Daniel Ford"
   ]
  },
  {
   "cell_type": "code",
   "execution_count": 1,
   "id": "845ee37a",
   "metadata": {},
   "outputs": [],
   "source": [
    "import wrangle as wg\n",
    "import explore as ex\n",
    "import model as mo\n",
    "\n",
    "import pandas as pd\n",
    "import numpy as np\n",
    "import matplotlib.pyplot as plt\n",
    "import seaborn as sns\n",
    "\n",
    "from statsmodels.tsa.arima.model import ARIMA\n",
    "from sklearn.metrics import mean_squared_error\n",
    "from math import sqrt \n",
    "import scipy.stats as stats\n",
    "import statsmodels.api as sm\n",
    "\n",
    "plt.rcParams[\"figure.figsize\"] = [16,9]  # width, height\n",
    "plt.rcParams['xtick.direction'] = 'out'\n",
    "%matplotlib inline\n",
    "import warnings\n",
    "warnings.filterwarnings('ignore')"
   ]
  },
  {
   "cell_type": "markdown",
   "id": "d54dcbcf",
   "metadata": {},
   "source": [
    "# Wrangle\n",
    "\n",
    "\n",
    "## Acquire\n",
    "\n",
    "this is gathered data of the 2011 DOW Jones Index \n",
    "colected from the UCI machine learning repository\n",
    "\n",
    "This dataframe has 750 observation over 14 rows"
   ]
  },
  {
   "cell_type": "code",
   "execution_count": 2,
   "id": "d7f0087a",
   "metadata": {},
   "outputs": [],
   "source": [
    "# simple function to retrieve dataframe\n",
    "df = wg.get_dow()"
   ]
  },
  {
   "cell_type": "code",
   "execution_count": 3,
   "id": "62986d33",
   "metadata": {},
   "outputs": [
    {
     "data": {
      "text/plain": [
       "(750, 16)"
      ]
     },
     "execution_count": 3,
     "metadata": {},
     "output_type": "execute_result"
    }
   ],
   "source": [
    "df.shape"
   ]
  },
  {
   "cell_type": "code",
   "execution_count": 4,
   "id": "e1018cbd",
   "metadata": {},
   "outputs": [
    {
     "data": {
      "text/html": [
       "<div>\n",
       "<style scoped>\n",
       "    .dataframe tbody tr th:only-of-type {\n",
       "        vertical-align: middle;\n",
       "    }\n",
       "\n",
       "    .dataframe tbody tr th {\n",
       "        vertical-align: top;\n",
       "    }\n",
       "\n",
       "    .dataframe thead th {\n",
       "        text-align: right;\n",
       "    }\n",
       "</style>\n",
       "<table border=\"1\" class=\"dataframe\">\n",
       "  <thead>\n",
       "    <tr style=\"text-align: right;\">\n",
       "      <th></th>\n",
       "      <th>quarter</th>\n",
       "      <th>stock</th>\n",
       "      <th>date</th>\n",
       "      <th>open</th>\n",
       "      <th>high</th>\n",
       "      <th>low</th>\n",
       "      <th>close</th>\n",
       "      <th>volume</th>\n",
       "      <th>percent_change_price</th>\n",
       "      <th>percent_change_volume_over_last_wk</th>\n",
       "      <th>previous_weeks_volume</th>\n",
       "      <th>next_weeks_open</th>\n",
       "      <th>next_weeks_close</th>\n",
       "      <th>percent_change_next_weeks_price</th>\n",
       "      <th>days_to_next_dividend</th>\n",
       "      <th>percent_return_next_dividend</th>\n",
       "    </tr>\n",
       "  </thead>\n",
       "  <tbody>\n",
       "    <tr>\n",
       "      <th>0</th>\n",
       "      <td>1</td>\n",
       "      <td>AA</td>\n",
       "      <td>1/7/2011</td>\n",
       "      <td>$15.82</td>\n",
       "      <td>$16.72</td>\n",
       "      <td>$15.78</td>\n",
       "      <td>$16.42</td>\n",
       "      <td>239655616</td>\n",
       "      <td>3.79267</td>\n",
       "      <td>NaN</td>\n",
       "      <td>NaN</td>\n",
       "      <td>$16.71</td>\n",
       "      <td>$15.97</td>\n",
       "      <td>-4.42849</td>\n",
       "      <td>26</td>\n",
       "      <td>0.182704</td>\n",
       "    </tr>\n",
       "    <tr>\n",
       "      <th>1</th>\n",
       "      <td>1</td>\n",
       "      <td>AA</td>\n",
       "      <td>1/14/2011</td>\n",
       "      <td>$16.71</td>\n",
       "      <td>$16.71</td>\n",
       "      <td>$15.64</td>\n",
       "      <td>$15.97</td>\n",
       "      <td>242963398</td>\n",
       "      <td>-4.42849</td>\n",
       "      <td>1.380223</td>\n",
       "      <td>239655616.0</td>\n",
       "      <td>$16.19</td>\n",
       "      <td>$15.79</td>\n",
       "      <td>-2.47066</td>\n",
       "      <td>19</td>\n",
       "      <td>0.187852</td>\n",
       "    </tr>\n",
       "    <tr>\n",
       "      <th>2</th>\n",
       "      <td>1</td>\n",
       "      <td>AA</td>\n",
       "      <td>1/21/2011</td>\n",
       "      <td>$16.19</td>\n",
       "      <td>$16.38</td>\n",
       "      <td>$15.60</td>\n",
       "      <td>$15.79</td>\n",
       "      <td>138428495</td>\n",
       "      <td>-2.47066</td>\n",
       "      <td>-43.024959</td>\n",
       "      <td>242963398.0</td>\n",
       "      <td>$15.87</td>\n",
       "      <td>$16.13</td>\n",
       "      <td>1.63831</td>\n",
       "      <td>12</td>\n",
       "      <td>0.189994</td>\n",
       "    </tr>\n",
       "  </tbody>\n",
       "</table>\n",
       "</div>"
      ],
      "text/plain": [
       "   quarter stock       date    open    high     low   close     volume  \\\n",
       "0        1    AA   1/7/2011  $15.82  $16.72  $15.78  $16.42  239655616   \n",
       "1        1    AA  1/14/2011  $16.71  $16.71  $15.64  $15.97  242963398   \n",
       "2        1    AA  1/21/2011  $16.19  $16.38  $15.60  $15.79  138428495   \n",
       "\n",
       "   percent_change_price  percent_change_volume_over_last_wk  \\\n",
       "0               3.79267                                 NaN   \n",
       "1              -4.42849                            1.380223   \n",
       "2              -2.47066                          -43.024959   \n",
       "\n",
       "   previous_weeks_volume next_weeks_open next_weeks_close  \\\n",
       "0                    NaN          $16.71           $15.97   \n",
       "1            239655616.0          $16.19           $15.79   \n",
       "2            242963398.0          $15.87           $16.13   \n",
       "\n",
       "   percent_change_next_weeks_price  days_to_next_dividend  \\\n",
       "0                         -4.42849                     26   \n",
       "1                         -2.47066                     19   \n",
       "2                          1.63831                     12   \n",
       "\n",
       "   percent_return_next_dividend  \n",
       "0                      0.182704  \n",
       "1                      0.187852  \n",
       "2                      0.189994  "
      ]
     },
     "execution_count": 4,
     "metadata": {},
     "output_type": "execute_result"
    }
   ],
   "source": [
    "df.head(3)"
   ]
  },
  {
   "cell_type": "markdown",
   "id": "3796d62c",
   "metadata": {},
   "source": [
    "## Clean\n",
    "\n",
    "\n",
    "This data was already very clean but to make it more useable I:\n",
    "\n",
    "   - changed data types of select columns\n",
    "   - replaced unnecessary characters\n",
    "   - convertedd date to date-time and indexed\n",
    "   - dropped select columns\n",
    "   - backfilled missing information"
   ]
  },
  {
   "cell_type": "code",
   "execution_count": 5,
   "id": "d26a557d",
   "metadata": {
    "scrolled": true
   },
   "outputs": [
    {
     "data": {
      "text/html": [
       "<div>\n",
       "<style scoped>\n",
       "    .dataframe tbody tr th:only-of-type {\n",
       "        vertical-align: middle;\n",
       "    }\n",
       "\n",
       "    .dataframe tbody tr th {\n",
       "        vertical-align: top;\n",
       "    }\n",
       "\n",
       "    .dataframe thead th {\n",
       "        text-align: right;\n",
       "    }\n",
       "</style>\n",
       "<table border=\"1\" class=\"dataframe\">\n",
       "  <thead>\n",
       "    <tr style=\"text-align: right;\">\n",
       "      <th></th>\n",
       "      <th>stock</th>\n",
       "      <th>open</th>\n",
       "      <th>high</th>\n",
       "      <th>low</th>\n",
       "      <th>close</th>\n",
       "      <th>volume</th>\n",
       "      <th>percent_change_price</th>\n",
       "      <th>percent_change_volume_over_last_wk</th>\n",
       "      <th>previous_weeks_volume</th>\n",
       "      <th>next_weeks_open</th>\n",
       "      <th>next_weeks_close</th>\n",
       "      <th>percent_change_next_weeks_price</th>\n",
       "      <th>days_to_next_dividend</th>\n",
       "      <th>percent_return_next_dividend</th>\n",
       "    </tr>\n",
       "    <tr>\n",
       "      <th>date</th>\n",
       "      <th></th>\n",
       "      <th></th>\n",
       "      <th></th>\n",
       "      <th></th>\n",
       "      <th></th>\n",
       "      <th></th>\n",
       "      <th></th>\n",
       "      <th></th>\n",
       "      <th></th>\n",
       "      <th></th>\n",
       "      <th></th>\n",
       "      <th></th>\n",
       "      <th></th>\n",
       "      <th></th>\n",
       "    </tr>\n",
       "  </thead>\n",
       "  <tbody>\n",
       "    <tr>\n",
       "      <th>2011-01-04</th>\n",
       "      <td>IBM</td>\n",
       "      <td>161.54</td>\n",
       "      <td>164.42</td>\n",
       "      <td>161.12</td>\n",
       "      <td>164.27</td>\n",
       "      <td>19081936</td>\n",
       "      <td>1.68998</td>\n",
       "      <td>-24.820375</td>\n",
       "      <td>25381792.0</td>\n",
       "      <td>164.42</td>\n",
       "      <td>164.05</td>\n",
       "      <td>-0.225033</td>\n",
       "      <td>35</td>\n",
       "      <td>0.456565</td>\n",
       "    </tr>\n",
       "    <tr>\n",
       "      <th>2011-01-04</th>\n",
       "      <td>TRV</td>\n",
       "      <td>59.09</td>\n",
       "      <td>60.01</td>\n",
       "      <td>58.37</td>\n",
       "      <td>59.71</td>\n",
       "      <td>16608737</td>\n",
       "      <td>1.04925</td>\n",
       "      <td>17.569654</td>\n",
       "      <td>14126721.0</td>\n",
       "      <td>59.83</td>\n",
       "      <td>59.58</td>\n",
       "      <td>-0.417851</td>\n",
       "      <td>68</td>\n",
       "      <td>0.686652</td>\n",
       "    </tr>\n",
       "    <tr>\n",
       "      <th>2011-01-04</th>\n",
       "      <td>KO</td>\n",
       "      <td>65.20</td>\n",
       "      <td>67.48</td>\n",
       "      <td>65.03</td>\n",
       "      <td>67.22</td>\n",
       "      <td>39265955</td>\n",
       "      <td>3.09816</td>\n",
       "      <td>31.529107</td>\n",
       "      <td>29853434.0</td>\n",
       "      <td>67.22</td>\n",
       "      <td>67.27</td>\n",
       "      <td>0.074383</td>\n",
       "      <td>73</td>\n",
       "      <td>0.699197</td>\n",
       "    </tr>\n",
       "    <tr>\n",
       "      <th>2011-01-04</th>\n",
       "      <td>XOM</td>\n",
       "      <td>83.86</td>\n",
       "      <td>84.94</td>\n",
       "      <td>82.61</td>\n",
       "      <td>84.68</td>\n",
       "      <td>77569311</td>\n",
       "      <td>0.97782</td>\n",
       "      <td>-6.951645</td>\n",
       "      <td>83364516.0</td>\n",
       "      <td>84.26</td>\n",
       "      <td>85.95</td>\n",
       "      <td>2.005700</td>\n",
       "      <td>40</td>\n",
       "      <td>0.555031</td>\n",
       "    </tr>\n",
       "    <tr>\n",
       "      <th>2011-01-04</th>\n",
       "      <td>PG</td>\n",
       "      <td>61.08</td>\n",
       "      <td>62.30</td>\n",
       "      <td>60.61</td>\n",
       "      <td>62.08</td>\n",
       "      <td>43453701</td>\n",
       "      <td>1.63720</td>\n",
       "      <td>5.084613</td>\n",
       "      <td>41351155.0</td>\n",
       "      <td>62.17</td>\n",
       "      <td>61.90</td>\n",
       "      <td>-0.434293</td>\n",
       "      <td>26</td>\n",
       "      <td>0.853737</td>\n",
       "    </tr>\n",
       "  </tbody>\n",
       "</table>\n",
       "</div>"
      ],
      "text/plain": [
       "           stock    open    high     low   close    volume  \\\n",
       "date                                                         \n",
       "2011-01-04   IBM  161.54  164.42  161.12  164.27  19081936   \n",
       "2011-01-04   TRV   59.09   60.01   58.37   59.71  16608737   \n",
       "2011-01-04    KO   65.20   67.48   65.03   67.22  39265955   \n",
       "2011-01-04   XOM   83.86   84.94   82.61   84.68  77569311   \n",
       "2011-01-04    PG   61.08   62.30   60.61   62.08  43453701   \n",
       "\n",
       "            percent_change_price  percent_change_volume_over_last_wk  \\\n",
       "date                                                                   \n",
       "2011-01-04               1.68998                          -24.820375   \n",
       "2011-01-04               1.04925                           17.569654   \n",
       "2011-01-04               3.09816                           31.529107   \n",
       "2011-01-04               0.97782                           -6.951645   \n",
       "2011-01-04               1.63720                            5.084613   \n",
       "\n",
       "            previous_weeks_volume  next_weeks_open  next_weeks_close  \\\n",
       "date                                                                   \n",
       "2011-01-04             25381792.0           164.42            164.05   \n",
       "2011-01-04             14126721.0            59.83             59.58   \n",
       "2011-01-04             29853434.0            67.22             67.27   \n",
       "2011-01-04             83364516.0            84.26             85.95   \n",
       "2011-01-04             41351155.0            62.17             61.90   \n",
       "\n",
       "            percent_change_next_weeks_price  days_to_next_dividend  \\\n",
       "date                                                                 \n",
       "2011-01-04                        -0.225033                     35   \n",
       "2011-01-04                        -0.417851                     68   \n",
       "2011-01-04                         0.074383                     73   \n",
       "2011-01-04                         2.005700                     40   \n",
       "2011-01-04                        -0.434293                     26   \n",
       "\n",
       "            percent_return_next_dividend  \n",
       "date                                      \n",
       "2011-01-04                      0.456565  \n",
       "2011-01-04                      0.686652  \n",
       "2011-01-04                      0.699197  \n",
       "2011-01-04                      0.555031  \n",
       "2011-01-04                      0.853737  "
      ]
     },
     "execution_count": 5,
     "metadata": {},
     "output_type": "execute_result"
    }
   ],
   "source": [
    "# this is a function to quickly clean the data for analysis\n",
    "df = wg.prep_DOW(df)\n",
    "df.head()"
   ]
  },
  {
   "cell_type": "markdown",
   "id": "2fbc9124",
   "metadata": {},
   "source": [
    "## My first question was which stock had the best positive percent change average."
   ]
  },
  {
   "cell_type": "code",
   "execution_count": 6,
   "id": "563692fa",
   "metadata": {
    "scrolled": true
   },
   "outputs": [
    {
     "name": "stdout",
     "output_type": "stream",
     "text": [
      "   stock      mean       min      max\n",
      "22   PFE  0.591685  -3.41018  6.10225\n",
      "12   IBM  0.587680  -3.27004  3.79122\n",
      "17  KRFT  0.544360  -2.73973  5.13709\n",
      "1    AXP  0.521029  -4.75570  6.34668\n",
      "7     DD  0.362452  -5.43437  4.96970\n",
      "6    CVX  0.340060  -6.02850  3.67084\n",
      "26   UTX  0.306830  -4.32184  5.44794\n",
      "14   JNJ  0.270470  -4.07609  5.98842\n",
      "2     BA  0.253427  -3.80463  5.65488\n",
      "29   XOM  0.240347  -6.14075  4.20420\n",
      "19   MMM  0.207030  -3.56194  4.11705\n",
      "18   MCD  0.196842  -4.08673  2.71145\n",
      "13  INTC  0.188712  -3.78054  9.88223\n",
      "8    DIS  0.175203  -6.01432  6.39706\n",
      "4    CAT  0.152660  -5.07571  5.64811\n",
      "25   TRV  0.110706  -4.92066  3.53501\n",
      "10    HD  0.108416  -5.64885  5.06440\n",
      "16    KO  0.081142  -4.49302  3.31063\n",
      "28   WMT  0.079834  -3.82828  2.57463\n",
      "24     T  0.059002  -3.40829  5.51344\n",
      "23    PG -0.017015  -2.97628  3.48275\n",
      "20   MRK -0.020566  -8.13204  6.67656\n",
      "15   JPM -0.070105  -4.48936  4.34783\n",
      "27    VZ -0.124289  -3.46789  2.75107\n",
      "9     GE -0.240471  -4.36992  4.00421\n",
      "0     AA -0.302084  -8.52713  5.93325\n",
      "21  MSFT -0.468074  -4.24679  2.43615\n",
      "11   HPQ -0.472149 -10.49750  6.79773\n",
      "3    BAC -0.976965  -6.05634  7.62174\n",
      "5   CSCO -1.178297 -15.42290  5.35117\n"
     ]
    }
   ],
   "source": [
    "# This is a quick groupby function that aggregates 2 varriables by mean min and max for simple comparetive analysis\n",
    "ex.quick_group(df,'stock', 'percent_change_price')"
   ]
  },
  {
   "cell_type": "markdown",
   "id": "399eea14",
   "metadata": {},
   "source": [
    "### the best three in this regard are\n",
    "- PFE\n",
    "- IBM\n",
    "- KRFT"
   ]
  },
  {
   "cell_type": "markdown",
   "id": "54901386",
   "metadata": {},
   "source": [
    "## Next I wanted to find what was the highest valued stock by price point"
   ]
  },
  {
   "cell_type": "code",
   "execution_count": 7,
   "id": "a24fa2dd",
   "metadata": {},
   "outputs": [
    {
     "name": "stdout",
     "output_type": "stream",
     "text": [
      "   stock      mean     min     max\n",
      "12   IBM  162.2024  147.00  172.11\n",
      "4    CAT  103.0672   92.71  116.24\n",
      "6    CVX  100.8808   90.95  109.74\n",
      "19   MMM   91.5300   85.70   97.58\n",
      "26   UTX   83.7964   78.27   90.03\n",
      "29   XOM   81.9584   73.72   88.10\n",
      "18   MCD   77.1220   73.50   82.32\n",
      "2     BA   73.2972   66.15   80.35\n",
      "16    KO   65.2824   62.32   68.10\n",
      "23    PG   64.0188   60.96   66.80\n",
      "14   JNJ   62.4644   58.67   67.31\n",
      "25   TRV   59.1104   53.12   63.56\n",
      "28   WMT   53.8724   51.73   56.45\n",
      "7     DD   52.7068   48.30   56.42\n",
      "1    AXP   46.4880   43.30   51.39\n",
      "15   JPM   44.5328   40.50   47.20\n",
      "11   HPQ   41.7368   34.79   48.45\n",
      "8    DIS   41.1944   37.74   43.53\n",
      "10    HD   36.5332   33.46   39.30\n",
      "27    VZ   36.5208   34.88   38.53\n",
      "20   MRK   34.3800   32.09   37.26\n",
      "17  KRFT   32.3836   30.53   34.97\n",
      "24     T   29.6128   27.42   31.60\n",
      "21  MSFT   26.0464   23.79   28.20\n",
      "13  INTC   21.4044   19.53   23.32\n",
      "9     GE   19.8344   18.31   21.51\n",
      "22   PFE   19.7160   17.70   21.14\n",
      "5   CSCO   18.1224   14.94   22.11\n",
      "0     AA   16.5640   14.67   18.06\n",
      "3    BAC   13.1756   10.59   15.08\n"
     ]
    }
   ],
   "source": [
    "# This is a quick groupby function that aggregates 2 varriables by mean min and max for simple comparetive analysis\n",
    "ex.quick_group(df,'stock', 'open')"
   ]
  },
  {
   "cell_type": "markdown",
   "id": "dbee2c3e",
   "metadata": {},
   "source": [
    "### The top three highest valued stock are\n",
    "- IBM\n",
    "- CAT\n",
    "- CVX\n",
    "\n",
    "for posterity, I also double checked close, and these three were still the highest"
   ]
  },
  {
   "cell_type": "markdown",
   "id": "d58b37b8",
   "metadata": {},
   "source": [
    "# Exploration\n",
    "\n",
    "As IBM is the highest valued and has a high positve percent change, this will be the stock I am forecasting, with that said, there are minimal total observations per stock at roughly 25 per."
   ]
  },
  {
   "cell_type": "code",
   "execution_count": 8,
   "id": "41d3d14b",
   "metadata": {},
   "outputs": [
    {
     "data": {
      "text/html": [
       "<div>\n",
       "<style scoped>\n",
       "    .dataframe tbody tr th:only-of-type {\n",
       "        vertical-align: middle;\n",
       "    }\n",
       "\n",
       "    .dataframe tbody tr th {\n",
       "        vertical-align: top;\n",
       "    }\n",
       "\n",
       "    .dataframe thead th {\n",
       "        text-align: right;\n",
       "    }\n",
       "</style>\n",
       "<table border=\"1\" class=\"dataframe\">\n",
       "  <thead>\n",
       "    <tr style=\"text-align: right;\">\n",
       "      <th></th>\n",
       "      <th>stock</th>\n",
       "      <th>open</th>\n",
       "      <th>high</th>\n",
       "      <th>low</th>\n",
       "      <th>close</th>\n",
       "      <th>volume</th>\n",
       "      <th>percent_change_price</th>\n",
       "      <th>percent_change_volume_over_last_wk</th>\n",
       "      <th>previous_weeks_volume</th>\n",
       "      <th>next_weeks_open</th>\n",
       "      <th>next_weeks_close</th>\n",
       "      <th>percent_change_next_weeks_price</th>\n",
       "      <th>days_to_next_dividend</th>\n",
       "      <th>percent_return_next_dividend</th>\n",
       "    </tr>\n",
       "    <tr>\n",
       "      <th>date</th>\n",
       "      <th></th>\n",
       "      <th></th>\n",
       "      <th></th>\n",
       "      <th></th>\n",
       "      <th></th>\n",
       "      <th></th>\n",
       "      <th></th>\n",
       "      <th></th>\n",
       "      <th></th>\n",
       "      <th></th>\n",
       "      <th></th>\n",
       "      <th></th>\n",
       "      <th></th>\n",
       "      <th></th>\n",
       "    </tr>\n",
       "  </thead>\n",
       "  <tbody>\n",
       "    <tr>\n",
       "      <th>2011-01-04</th>\n",
       "      <td>IBM</td>\n",
       "      <td>161.54</td>\n",
       "      <td>164.42</td>\n",
       "      <td>161.12</td>\n",
       "      <td>164.27</td>\n",
       "      <td>19081936.0</td>\n",
       "      <td>1.68998</td>\n",
       "      <td>-24.820375</td>\n",
       "      <td>25381792.0</td>\n",
       "      <td>164.42</td>\n",
       "      <td>164.05</td>\n",
       "      <td>-0.225033</td>\n",
       "      <td>35.0</td>\n",
       "      <td>0.456565</td>\n",
       "    </tr>\n",
       "    <tr>\n",
       "      <th>2011-01-14</th>\n",
       "      <td>IBM</td>\n",
       "      <td>147.00</td>\n",
       "      <td>150.00</td>\n",
       "      <td>146.00</td>\n",
       "      <td>150.00</td>\n",
       "      <td>15335348.0</td>\n",
       "      <td>2.04082</td>\n",
       "      <td>-34.723320</td>\n",
       "      <td>23492843.0</td>\n",
       "      <td>149.82</td>\n",
       "      <td>155.50</td>\n",
       "      <td>3.791220</td>\n",
       "      <td>25.0</td>\n",
       "      <td>0.433333</td>\n",
       "    </tr>\n",
       "    <tr>\n",
       "      <th>2011-01-21</th>\n",
       "      <td>IBM</td>\n",
       "      <td>149.82</td>\n",
       "      <td>156.78</td>\n",
       "      <td>149.38</td>\n",
       "      <td>155.50</td>\n",
       "      <td>35770931.0</td>\n",
       "      <td>3.79122</td>\n",
       "      <td>133.258032</td>\n",
       "      <td>15335348.0</td>\n",
       "      <td>155.42</td>\n",
       "      <td>159.21</td>\n",
       "      <td>2.438550</td>\n",
       "      <td>18.0</td>\n",
       "      <td>0.418006</td>\n",
       "    </tr>\n",
       "  </tbody>\n",
       "</table>\n",
       "</div>"
      ],
      "text/plain": [
       "           stock    open    high     low   close      volume  \\\n",
       "date                                                           \n",
       "2011-01-04   IBM  161.54  164.42  161.12  164.27  19081936.0   \n",
       "2011-01-14   IBM  147.00  150.00  146.00  150.00  15335348.0   \n",
       "2011-01-21   IBM  149.82  156.78  149.38  155.50  35770931.0   \n",
       "\n",
       "            percent_change_price  percent_change_volume_over_last_wk  \\\n",
       "date                                                                   \n",
       "2011-01-04               1.68998                          -24.820375   \n",
       "2011-01-14               2.04082                          -34.723320   \n",
       "2011-01-21               3.79122                          133.258032   \n",
       "\n",
       "            previous_weeks_volume  next_weeks_open  next_weeks_close  \\\n",
       "date                                                                   \n",
       "2011-01-04             25381792.0           164.42            164.05   \n",
       "2011-01-14             23492843.0           149.82            155.50   \n",
       "2011-01-21             15335348.0           155.42            159.21   \n",
       "\n",
       "            percent_change_next_weeks_price  days_to_next_dividend  \\\n",
       "date                                                                 \n",
       "2011-01-04                        -0.225033                   35.0   \n",
       "2011-01-14                         3.791220                   25.0   \n",
       "2011-01-21                         2.438550                   18.0   \n",
       "\n",
       "            percent_return_next_dividend  \n",
       "date                                      \n",
       "2011-01-04                      0.456565  \n",
       "2011-01-14                      0.433333  \n",
       "2011-01-21                      0.418006  "
      ]
     },
     "execution_count": 8,
     "metadata": {},
     "output_type": "execute_result"
    }
   ],
   "source": [
    "# this function creates a dataframe of only IBM observations\n",
    "df = wg.split_ibm(df)\n",
    "df.head(3)"
   ]
  },
  {
   "cell_type": "code",
   "execution_count": 9,
   "id": "449b1347",
   "metadata": {},
   "outputs": [
    {
     "name": "stdout",
     "output_type": "stream",
     "text": [
      "22 13 9\n"
     ]
    }
   ],
   "source": [
    "#this resamples and splits our IBM dataframe, to counter data leakage\n",
    "train, validate, split = wg.resample_and_split(df)"
   ]
  },
  {
   "cell_type": "markdown",
   "id": "4d17f717",
   "metadata": {},
   "source": [
    "## How do the distributions look?"
   ]
  },
  {
   "cell_type": "code",
   "execution_count": 10,
   "id": "0543de10",
   "metadata": {
    "scrolled": false
   },
   "outputs": [
    {
     "data": {
      "image/png": "[encoded data removed]",
      "text/plain": [
       "<Figure size 1008x576 with 1 Axes>"
      ]
     },
     "metadata": {
      "needs_background": "light"
     },
     "output_type": "display_data"
    },
    {
     "data": {
      "image/png": "[encoded data removed]",
      "text/plain": [
       "<Figure size 1008x576 with 1 Axes>"
      ]
     },
     "metadata": {
      "needs_background": "light"
     },
     "output_type": "display_data"
    },
    {
     "data": {
      "image/png": "[encoded data removed]",
      "text/plain": [
       "<Figure size 1008x576 with 1 Axes>"
      ]
     },
     "metadata": {
      "needs_background": "light"
     },
     "output_type": "display_data"
    }
   ],
   "source": [
    "ex.distributions(train, validate)"
   ]
  },
  {
   "cell_type": "markdown",
   "id": "a6b8c86f",
   "metadata": {},
   "source": [
    "### possibly some seasonality, really not enough data to be sure"
   ]
  },
  {
   "cell_type": "markdown",
   "id": "881c6442",
   "metadata": {},
   "source": [
    "## Is there any seasonality or trend?"
   ]
  },
  {
   "cell_type": "code",
   "execution_count": 11,
   "id": "0f96cd39",
   "metadata": {},
   "outputs": [],
   "source": [
    "# we'll make a new column to help get more insights\n",
    "train['month'] = train.index.strftime('%m-%b')"
   ]
  },
  {
   "cell_type": "code",
   "execution_count": 12,
   "id": "c7fae4fd",
   "metadata": {
    "scrolled": true
   },
   "outputs": [
    {
     "data": {
      "text/plain": [
       "<AxesSubplot:xlabel='month', ylabel='percent_change_price'>"
      ]
     },
     "execution_count": 12,
     "metadata": {},
     "output_type": "execute_result"
    },
    {
     "data": {
      "image/png": "[encoded data removed]",
      "text/plain": [
       "<Figure size 432x288 with 1 Axes>"
      ]
     },
     "metadata": {
      "needs_background": "light"
     },
     "output_type": "display_data"
    }
   ],
   "source": [
    "# box plot for percent change price by monthbbb\n",
    "sns.boxplot(data = train, x = 'month', y = 'percent_change_price')"
   ]
  },
  {
   "cell_type": "code",
   "execution_count": 13,
   "id": "331b8526",
   "metadata": {},
   "outputs": [
    {
     "data": {
      "text/plain": [
       "<AxesSubplot:xlabel='month', ylabel='close'>"
      ]
     },
     "execution_count": 13,
     "metadata": {},
     "output_type": "execute_result"
    },
    {
     "data": {
      "image/png": "[encoded data removed]",
      "text/plain": [
       "<Figure size 432x288 with 1 Axes>"
      ]
     },
     "metadata": {
      "needs_background": "light"
     },
     "output_type": "display_data"
    }
   ],
   "source": [
    "sns.boxplot(data = train, x = 'month', y = 'close')"
   ]
  },
  {
   "cell_type": "code",
   "execution_count": 14,
   "id": "d2807658",
   "metadata": {},
   "outputs": [
    {
     "data": {
      "text/plain": [
       "<AxesSubplot:xlabel='month', ylabel='open'>"
      ]
     },
     "execution_count": 14,
     "metadata": {},
     "output_type": "execute_result"
    },
    {
     "data": {
      "image/png": "[encoded data removed]",
      "text/plain": [
       "<Figure size 432x288 with 1 Axes>"
      ]
     },
     "metadata": {
      "needs_background": "light"
     },
     "output_type": "display_data"
    }
   ],
   "source": [
    "sns.boxplot(data = train, x = 'month', y = 'open')"
   ]
  },
  {
   "cell_type": "markdown",
   "id": "43f751fb",
   "metadata": {},
   "source": [
    "### there does seem to be some seasonality with price change percentage quarterly\n",
    "\n",
    "- high positive percentage change at the beginning of the quarter\n",
    "\n",
    "- negative percentage change at the end of the quarter"
   ]
  },
  {
   "cell_type": "markdown",
   "id": "7f6c43e5",
   "metadata": {},
   "source": [
    "# Explore takeaway:\n",
    "\n",
    "With so few data points its hard to tell, but there does seem to be some seasonality in Percentage Price Change so we will continue on with that as the Main target for modeling"
   ]
  },
  {
   "cell_type": "markdown",
   "id": "c8647b28",
   "metadata": {},
   "source": [
    "# Modeling\n",
    "\n",
    "## ARIMA"
   ]
  },
  {
   "cell_type": "code",
   "execution_count": 15,
   "id": "69997d71",
   "metadata": {},
   "outputs": [
    {
     "name": "stdout",
     "output_type": "stream",
     "text": [
      "ADF Test Statistic : -2.9368757468787683\n",
      "p-value : 0.04122483301981415\n",
      "#Lags Used : 0\n",
      "Number of Observations : 21\n",
      "strong evidence against the null hypothesis(Ho), reject the null hypothesis. Data is stationary\n"
     ]
    }
   ],
   "source": [
    "# function to run ADFULLER hypothesis tesst\n",
    "mo.adfuller_test(train['percent_change_price'])"
   ]
  },
  {
   "cell_type": "code",
   "execution_count": 16,
   "id": "0755b750",
   "metadata": {},
   "outputs": [
    {
     "data": {
      "text/html": [
       "<table class=\"simpletable\">\n",
       "<caption>SARIMAX Results</caption>\n",
       "<tr>\n",
       "  <th>Dep. Variable:</th>   <td>percent_change_price</td> <th>  No. Observations:  </th>   <td>22</td>   \n",
       "</tr>\n",
       "<tr>\n",
       "  <th>Model:</th>              <td>ARIMA(1, 1, 1)</td>    <th>  Log Likelihood     </th> <td>-41.738</td>\n",
       "</tr>\n",
       "<tr>\n",
       "  <th>Date:</th>              <td>Fri, 19 Aug 2022</td>   <th>  AIC                </th> <td>89.477</td> \n",
       "</tr>\n",
       "<tr>\n",
       "  <th>Time:</th>                  <td>04:37:10</td>       <th>  BIC                </th> <td>92.610</td> \n",
       "</tr>\n",
       "<tr>\n",
       "  <th>Sample:</th>               <td>01-09-2011</td>      <th>  HQIC               </th> <td>90.157</td> \n",
       "</tr>\n",
       "<tr>\n",
       "  <th></th>                     <td>- 06-05-2011</td>     <th>                     </th>    <td> </td>   \n",
       "</tr>\n",
       "<tr>\n",
       "  <th>Covariance Type:</th>          <td>opg</td>         <th>                     </th>    <td> </td>   \n",
       "</tr>\n",
       "</table>\n",
       "<table class=\"simpletable\">\n",
       "<tr>\n",
       "     <td></td>       <th>coef</th>     <th>std err</th>      <th>z</th>      <th>P>|z|</th>  <th>[0.025</th>    <th>0.975]</th>  \n",
       "</tr>\n",
       "<tr>\n",
       "  <th>ar.L1</th>  <td>    0.3861</td> <td>    0.441</td> <td>    0.875</td> <td> 0.381</td> <td>   -0.478</td> <td>    1.251</td>\n",
       "</tr>\n",
       "<tr>\n",
       "  <th>ma.L1</th>  <td>   -0.9993</td> <td>   40.075</td> <td>   -0.025</td> <td> 0.980</td> <td>  -79.545</td> <td>   77.547</td>\n",
       "</tr>\n",
       "<tr>\n",
       "  <th>sigma2</th> <td>    2.7921</td> <td>  110.890</td> <td>    0.025</td> <td> 0.980</td> <td> -214.549</td> <td>  220.133</td>\n",
       "</tr>\n",
       "</table>\n",
       "<table class=\"simpletable\">\n",
       "<tr>\n",
       "  <th>Ljung-Box (L1) (Q):</th>     <td>0.28</td> <th>  Jarque-Bera (JB):  </th> <td>0.88</td>\n",
       "</tr>\n",
       "<tr>\n",
       "  <th>Prob(Q):</th>                <td>0.60</td> <th>  Prob(JB):          </th> <td>0.64</td>\n",
       "</tr>\n",
       "<tr>\n",
       "  <th>Heteroskedasticity (H):</th> <td>0.73</td> <th>  Skew:              </th> <td>0.46</td>\n",
       "</tr>\n",
       "<tr>\n",
       "  <th>Prob(H) (two-sided):</th>    <td>0.69</td> <th>  Kurtosis:          </th> <td>3.38</td>\n",
       "</tr>\n",
       "</table><br/><br/>Warnings:<br/>[1] Covariance matrix calculated using the outer product of gradients (complex-step)."
      ],
      "text/plain": [
       "<class 'statsmodels.iolib.summary.Summary'>\n",
       "\"\"\"\n",
       "                                SARIMAX Results                                 \n",
       "================================================================================\n",
       "Dep. Variable:     percent_change_price   No. Observations:                   22\n",
       "Model:                   ARIMA(1, 1, 1)   Log Likelihood                 -41.738\n",
       "Date:                  Fri, 19 Aug 2022   AIC                             89.477\n",
       "Time:                          04:37:10   BIC                             92.610\n",
       "Sample:                      01-09-2011   HQIC                            90.157\n",
       "                           - 06-05-2011                                         \n",
       "Covariance Type:                    opg                                         \n",
       "==============================================================================\n",
       "                 coef    std err          z      P>|z|      [0.025      0.975]\n",
       "------------------------------------------------------------------------------\n",
       "ar.L1          0.3861      0.441      0.875      0.381      -0.478       1.251\n",
       "ma.L1         -0.9993     40.075     -0.025      0.980     -79.545      77.547\n",
       "sigma2         2.7921    110.890      0.025      0.980    -214.549     220.133\n",
       "===================================================================================\n",
       "Ljung-Box (L1) (Q):                   0.28   Jarque-Bera (JB):                 0.88\n",
       "Prob(Q):                              0.60   Prob(JB):                         0.64\n",
       "Heteroskedasticity (H):               0.73   Skew:                             0.46\n",
       "Prob(H) (two-sided):                  0.69   Kurtosis:                         3.38\n",
       "===================================================================================\n",
       "\n",
       "Warnings:\n",
       "[1] Covariance matrix calculated using the outer product of gradients (complex-step).\n",
       "\"\"\""
      ]
     },
     "execution_count": 16,
     "metadata": {},
     "output_type": "execute_result"
    }
   ],
   "source": [
    "model=ARIMA(train['percent_change_price'],order=(1,1,1))\n",
    "model_fit=model.fit()\n",
    "\n",
    "model_fit.summary()"
   ]
  },
  {
   "cell_type": "code",
   "execution_count": 17,
   "id": "38ac26fe",
   "metadata": {},
   "outputs": [
    {
     "data": {
      "text/plain": [
       "<AxesSubplot:xlabel='date'>"
      ]
     },
     "execution_count": 17,
     "metadata": {},
     "output_type": "execute_result"
    },
    {
     "data": {
      "image/png": "[encoded data removed]",
      "text/plain": [
       "<Figure size 864x576 with 1 Axes>"
      ]
     },
     "metadata": {
      "needs_background": "light"
     },
     "output_type": "display_data"
    }
   ],
   "source": [
    "train['forecast']=model_fit.predict(start=15,end=103,dynamic=True)\n",
    "train[['percent_change_price','forecast']].plot(figsize=(12,8))"
   ]
  },
  {
   "cell_type": "markdown",
   "id": "6cd2d13d",
   "metadata": {},
   "source": [
    "# Conclusion:\n",
    "\n",
    "## Takeaway:\n",
    "\n",
    "- The model is not great\n",
    "\n",
    "- there is not enough data to fit and make proper predictions for a time series\n",
    "\n",
    "- A regression model may have been a better coice for this data set\n",
    "\n",
    "## Recomendations:\n",
    "\n",
    "- hold of on implimentation until a better model is built\n",
    "\n",
    "- Collect more data\n",
    "\n",
    "\n",
    "## Next Steps:\n",
    "\n",
    "- Clustering and regression modeling is a good choice for future work\n",
    "\n",
    "- research other methods of time series analysis\n",
    "\n"
   ]
  }
 ],
 "metadata": {
  "kernelspec": {
   "display_name": "Python 3 (ipykernel)",
   "language": "python",
   "name": "python3"
  },
  "language_info": {
   "codemirror_mode": {
    "name": "ipython",
    "version": 3
   },
   "file_extension": ".py",
   "mimetype": "text/x-python",
   "name": "python",
   "nbconvert_exporter": "python",
   "pygments_lexer": "ipython3",
   "version": "3.9.12"
  }
 },
 "nbformat": 4,
 "nbformat_minor": 5
}
