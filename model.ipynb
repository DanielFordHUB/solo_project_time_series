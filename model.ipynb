{
 "cells": [
  {
   "cell_type": "code",
   "execution_count": 91,
   "id": "35fb88d7",
   "metadata": {},
   "outputs": [
    {
     "name": "stdout",
     "output_type": "stream",
     "text": [
      "The autoreload extension is already loaded. To reload it, use:\n",
      "  %reload_ext autoreload\n"
     ]
    }
   ],
   "source": [
    "%matplotlib inline\n",
    "\n",
    "import stumpy\n",
    "import numpy as np\n",
    "import pandas as pd\n",
    "import seaborn as sns\n",
    "import matplotlib.pyplot as plt\n",
    "import matplotlib.dates as dates\n",
    "from matplotlib.patches import Rectangle\n",
    "%load_ext autoreload\n",
    "%autoreload 2\n",
    "\n",
    "import datetime as dt\n",
    "import dtale\n",
    "from matplotlib.ticker import StrMethodFormatter\n",
    "from matplotlib.dates import DateFormatter\n",
    "from darts import TimeSeries\n",
    "\n",
    "import wrangle as wg\n",
    "import scipy.stats as stats\n",
    "# to evaluated performance using rmse\n",
    "from sklearn.metrics import mean_squared_error\n",
    "from math import sqrt \n",
    "# for tsa \n",
    "import statsmodels.api as sm\n",
    "\n",
    "# holt's linear trend model. \n",
    "from statsmodels.tsa.api import Holt\n",
    "from statsmodels.tsa.arima.model import ARIMA\n",
    "\n",
    "plt.rcParams[\"figure.figsize\"] = [20,6]  # width, height\n",
    "plt.rcParams['xtick.direction'] = 'out'\n",
    "\n",
    "import warnings\n",
    "warnings.filterwarnings('ignore')"
   ]
  },
  {
   "cell_type": "code",
   "execution_count": 2,
   "id": "c0d4448a",
   "metadata": {},
   "outputs": [
    {
     "data": {
      "text/html": [
       "<div>\n",
       "<style scoped>\n",
       "    .dataframe tbody tr th:only-of-type {\n",
       "        vertical-align: middle;\n",
       "    }\n",
       "\n",
       "    .dataframe tbody tr th {\n",
       "        vertical-align: top;\n",
       "    }\n",
       "\n",
       "    .dataframe thead th {\n",
       "        text-align: right;\n",
       "    }\n",
       "</style>\n",
       "<table border=\"1\" class=\"dataframe\">\n",
       "  <thead>\n",
       "    <tr style=\"text-align: right;\">\n",
       "      <th></th>\n",
       "      <th>quarter</th>\n",
       "      <th>stock</th>\n",
       "      <th>date</th>\n",
       "      <th>open</th>\n",
       "      <th>high</th>\n",
       "      <th>low</th>\n",
       "      <th>close</th>\n",
       "      <th>volume</th>\n",
       "      <th>percent_change_price</th>\n",
       "      <th>percent_change_volume_over_last_wk</th>\n",
       "      <th>previous_weeks_volume</th>\n",
       "      <th>next_weeks_open</th>\n",
       "      <th>next_weeks_close</th>\n",
       "      <th>percent_change_next_weeks_price</th>\n",
       "      <th>days_to_next_dividend</th>\n",
       "      <th>percent_return_next_dividend</th>\n",
       "    </tr>\n",
       "  </thead>\n",
       "  <tbody>\n",
       "    <tr>\n",
       "      <th>0</th>\n",
       "      <td>1</td>\n",
       "      <td>AA</td>\n",
       "      <td>1/7/2011</td>\n",
       "      <td>$15.82</td>\n",
       "      <td>$16.72</td>\n",
       "      <td>$15.78</td>\n",
       "      <td>$16.42</td>\n",
       "      <td>239655616</td>\n",
       "      <td>3.79267</td>\n",
       "      <td>NaN</td>\n",
       "      <td>NaN</td>\n",
       "      <td>$16.71</td>\n",
       "      <td>$15.97</td>\n",
       "      <td>-4.428490</td>\n",
       "      <td>26</td>\n",
       "      <td>0.182704</td>\n",
       "    </tr>\n",
       "    <tr>\n",
       "      <th>1</th>\n",
       "      <td>1</td>\n",
       "      <td>AA</td>\n",
       "      <td>1/14/2011</td>\n",
       "      <td>$16.71</td>\n",
       "      <td>$16.71</td>\n",
       "      <td>$15.64</td>\n",
       "      <td>$15.97</td>\n",
       "      <td>242963398</td>\n",
       "      <td>-4.42849</td>\n",
       "      <td>1.380223</td>\n",
       "      <td>239655616.0</td>\n",
       "      <td>$16.19</td>\n",
       "      <td>$15.79</td>\n",
       "      <td>-2.470660</td>\n",
       "      <td>19</td>\n",
       "      <td>0.187852</td>\n",
       "    </tr>\n",
       "    <tr>\n",
       "      <th>2</th>\n",
       "      <td>1</td>\n",
       "      <td>AA</td>\n",
       "      <td>1/21/2011</td>\n",
       "      <td>$16.19</td>\n",
       "      <td>$16.38</td>\n",
       "      <td>$15.60</td>\n",
       "      <td>$15.79</td>\n",
       "      <td>138428495</td>\n",
       "      <td>-2.47066</td>\n",
       "      <td>-43.024959</td>\n",
       "      <td>242963398.0</td>\n",
       "      <td>$15.87</td>\n",
       "      <td>$16.13</td>\n",
       "      <td>1.638310</td>\n",
       "      <td>12</td>\n",
       "      <td>0.189994</td>\n",
       "    </tr>\n",
       "    <tr>\n",
       "      <th>3</th>\n",
       "      <td>1</td>\n",
       "      <td>AA</td>\n",
       "      <td>1/28/2011</td>\n",
       "      <td>$15.87</td>\n",
       "      <td>$16.63</td>\n",
       "      <td>$15.82</td>\n",
       "      <td>$16.13</td>\n",
       "      <td>151379173</td>\n",
       "      <td>1.63831</td>\n",
       "      <td>9.355500</td>\n",
       "      <td>138428495.0</td>\n",
       "      <td>$16.18</td>\n",
       "      <td>$17.14</td>\n",
       "      <td>5.933250</td>\n",
       "      <td>5</td>\n",
       "      <td>0.185989</td>\n",
       "    </tr>\n",
       "    <tr>\n",
       "      <th>4</th>\n",
       "      <td>1</td>\n",
       "      <td>AA</td>\n",
       "      <td>2/4/2011</td>\n",
       "      <td>$16.18</td>\n",
       "      <td>$17.39</td>\n",
       "      <td>$16.18</td>\n",
       "      <td>$17.14</td>\n",
       "      <td>154387761</td>\n",
       "      <td>5.93325</td>\n",
       "      <td>1.987452</td>\n",
       "      <td>151379173.0</td>\n",
       "      <td>$17.33</td>\n",
       "      <td>$17.37</td>\n",
       "      <td>0.230814</td>\n",
       "      <td>97</td>\n",
       "      <td>0.175029</td>\n",
       "    </tr>\n",
       "  </tbody>\n",
       "</table>\n",
       "</div>"
      ],
      "text/plain": [
       "   quarter stock       date    open    high     low   close     volume  \\\n",
       "0        1    AA   1/7/2011  $15.82  $16.72  $15.78  $16.42  239655616   \n",
       "1        1    AA  1/14/2011  $16.71  $16.71  $15.64  $15.97  242963398   \n",
       "2        1    AA  1/21/2011  $16.19  $16.38  $15.60  $15.79  138428495   \n",
       "3        1    AA  1/28/2011  $15.87  $16.63  $15.82  $16.13  151379173   \n",
       "4        1    AA   2/4/2011  $16.18  $17.39  $16.18  $17.14  154387761   \n",
       "\n",
       "   percent_change_price  percent_change_volume_over_last_wk  \\\n",
       "0               3.79267                                 NaN   \n",
       "1              -4.42849                            1.380223   \n",
       "2              -2.47066                          -43.024959   \n",
       "3               1.63831                            9.355500   \n",
       "4               5.93325                            1.987452   \n",
       "\n",
       "   previous_weeks_volume next_weeks_open next_weeks_close  \\\n",
       "0                    NaN          $16.71           $15.97   \n",
       "1            239655616.0          $16.19           $15.79   \n",
       "2            242963398.0          $15.87           $16.13   \n",
       "3            138428495.0          $16.18           $17.14   \n",
       "4            151379173.0          $17.33           $17.37   \n",
       "\n",
       "   percent_change_next_weeks_price  days_to_next_dividend  \\\n",
       "0                        -4.428490                     26   \n",
       "1                        -2.470660                     19   \n",
       "2                         1.638310                     12   \n",
       "3                         5.933250                      5   \n",
       "4                         0.230814                     97   \n",
       "\n",
       "   percent_return_next_dividend  \n",
       "0                      0.182704  \n",
       "1                      0.187852  \n",
       "2                      0.189994  \n",
       "3                      0.185989  \n",
       "4                      0.175029  "
      ]
     },
     "execution_count": 2,
     "metadata": {},
     "output_type": "execute_result"
    }
   ],
   "source": [
    "df = wg.get_dow()\n",
    "df.head()"
   ]
  },
  {
   "cell_type": "code",
   "execution_count": 3,
   "id": "af07a3f2",
   "metadata": {},
   "outputs": [
    {
     "data": {
      "text/html": [
       "<div>\n",
       "<style scoped>\n",
       "    .dataframe tbody tr th:only-of-type {\n",
       "        vertical-align: middle;\n",
       "    }\n",
       "\n",
       "    .dataframe tbody tr th {\n",
       "        vertical-align: top;\n",
       "    }\n",
       "\n",
       "    .dataframe thead th {\n",
       "        text-align: right;\n",
       "    }\n",
       "</style>\n",
       "<table border=\"1\" class=\"dataframe\">\n",
       "  <thead>\n",
       "    <tr style=\"text-align: right;\">\n",
       "      <th></th>\n",
       "      <th>stock</th>\n",
       "      <th>open</th>\n",
       "      <th>high</th>\n",
       "      <th>low</th>\n",
       "      <th>close</th>\n",
       "      <th>volume</th>\n",
       "      <th>percent_change_price</th>\n",
       "      <th>percent_change_volume_over_last_wk</th>\n",
       "      <th>previous_weeks_volume</th>\n",
       "      <th>next_weeks_open</th>\n",
       "      <th>next_weeks_close</th>\n",
       "      <th>percent_change_next_weeks_price</th>\n",
       "      <th>days_to_next_dividend</th>\n",
       "      <th>percent_return_next_dividend</th>\n",
       "    </tr>\n",
       "    <tr>\n",
       "      <th>date</th>\n",
       "      <th></th>\n",
       "      <th></th>\n",
       "      <th></th>\n",
       "      <th></th>\n",
       "      <th></th>\n",
       "      <th></th>\n",
       "      <th></th>\n",
       "      <th></th>\n",
       "      <th></th>\n",
       "      <th></th>\n",
       "      <th></th>\n",
       "      <th></th>\n",
       "      <th></th>\n",
       "      <th></th>\n",
       "    </tr>\n",
       "  </thead>\n",
       "  <tbody>\n",
       "    <tr>\n",
       "      <th>2011-01-04</th>\n",
       "      <td>IBM</td>\n",
       "      <td>161.54</td>\n",
       "      <td>164.42</td>\n",
       "      <td>161.12</td>\n",
       "      <td>164.27</td>\n",
       "      <td>19081936</td>\n",
       "      <td>1.68998</td>\n",
       "      <td>-24.820375</td>\n",
       "      <td>25381792.0</td>\n",
       "      <td>164.42</td>\n",
       "      <td>164.05</td>\n",
       "      <td>-0.225033</td>\n",
       "      <td>35</td>\n",
       "      <td>0.456565</td>\n",
       "    </tr>\n",
       "    <tr>\n",
       "      <th>2011-01-04</th>\n",
       "      <td>TRV</td>\n",
       "      <td>59.09</td>\n",
       "      <td>60.01</td>\n",
       "      <td>58.37</td>\n",
       "      <td>59.71</td>\n",
       "      <td>16608737</td>\n",
       "      <td>1.04925</td>\n",
       "      <td>17.569654</td>\n",
       "      <td>14126721.0</td>\n",
       "      <td>59.83</td>\n",
       "      <td>59.58</td>\n",
       "      <td>-0.417851</td>\n",
       "      <td>68</td>\n",
       "      <td>0.686652</td>\n",
       "    </tr>\n",
       "    <tr>\n",
       "      <th>2011-01-04</th>\n",
       "      <td>KO</td>\n",
       "      <td>65.20</td>\n",
       "      <td>67.48</td>\n",
       "      <td>65.03</td>\n",
       "      <td>67.22</td>\n",
       "      <td>39265955</td>\n",
       "      <td>3.09816</td>\n",
       "      <td>31.529107</td>\n",
       "      <td>29853434.0</td>\n",
       "      <td>67.22</td>\n",
       "      <td>67.27</td>\n",
       "      <td>0.074383</td>\n",
       "      <td>73</td>\n",
       "      <td>0.699197</td>\n",
       "    </tr>\n",
       "    <tr>\n",
       "      <th>2011-01-04</th>\n",
       "      <td>XOM</td>\n",
       "      <td>83.86</td>\n",
       "      <td>84.94</td>\n",
       "      <td>82.61</td>\n",
       "      <td>84.68</td>\n",
       "      <td>77569311</td>\n",
       "      <td>0.97782</td>\n",
       "      <td>-6.951645</td>\n",
       "      <td>83364516.0</td>\n",
       "      <td>84.26</td>\n",
       "      <td>85.95</td>\n",
       "      <td>2.005700</td>\n",
       "      <td>40</td>\n",
       "      <td>0.555031</td>\n",
       "    </tr>\n",
       "    <tr>\n",
       "      <th>2011-01-04</th>\n",
       "      <td>PG</td>\n",
       "      <td>61.08</td>\n",
       "      <td>62.30</td>\n",
       "      <td>60.61</td>\n",
       "      <td>62.08</td>\n",
       "      <td>43453701</td>\n",
       "      <td>1.63720</td>\n",
       "      <td>5.084613</td>\n",
       "      <td>41351155.0</td>\n",
       "      <td>62.17</td>\n",
       "      <td>61.90</td>\n",
       "      <td>-0.434293</td>\n",
       "      <td>26</td>\n",
       "      <td>0.853737</td>\n",
       "    </tr>\n",
       "  </tbody>\n",
       "</table>\n",
       "</div>"
      ],
      "text/plain": [
       "           stock    open    high     low   close    volume  \\\n",
       "date                                                         \n",
       "2011-01-04   IBM  161.54  164.42  161.12  164.27  19081936   \n",
       "2011-01-04   TRV   59.09   60.01   58.37   59.71  16608737   \n",
       "2011-01-04    KO   65.20   67.48   65.03   67.22  39265955   \n",
       "2011-01-04   XOM   83.86   84.94   82.61   84.68  77569311   \n",
       "2011-01-04    PG   61.08   62.30   60.61   62.08  43453701   \n",
       "\n",
       "            percent_change_price  percent_change_volume_over_last_wk  \\\n",
       "date                                                                   \n",
       "2011-01-04               1.68998                          -24.820375   \n",
       "2011-01-04               1.04925                           17.569654   \n",
       "2011-01-04               3.09816                           31.529107   \n",
       "2011-01-04               0.97782                           -6.951645   \n",
       "2011-01-04               1.63720                            5.084613   \n",
       "\n",
       "            previous_weeks_volume  next_weeks_open  next_weeks_close  \\\n",
       "date                                                                   \n",
       "2011-01-04             25381792.0           164.42            164.05   \n",
       "2011-01-04             14126721.0            59.83             59.58   \n",
       "2011-01-04             29853434.0            67.22             67.27   \n",
       "2011-01-04             83364516.0            84.26             85.95   \n",
       "2011-01-04             41351155.0            62.17             61.90   \n",
       "\n",
       "            percent_change_next_weeks_price  days_to_next_dividend  \\\n",
       "date                                                                 \n",
       "2011-01-04                        -0.225033                     35   \n",
       "2011-01-04                        -0.417851                     68   \n",
       "2011-01-04                         0.074383                     73   \n",
       "2011-01-04                         2.005700                     40   \n",
       "2011-01-04                        -0.434293                     26   \n",
       "\n",
       "            percent_return_next_dividend  \n",
       "date                                      \n",
       "2011-01-04                      0.456565  \n",
       "2011-01-04                      0.686652  \n",
       "2011-01-04                      0.699197  \n",
       "2011-01-04                      0.555031  \n",
       "2011-01-04                      0.853737  "
      ]
     },
     "execution_count": 3,
     "metadata": {},
     "output_type": "execute_result"
    }
   ],
   "source": [
    "df = wg.prep_DOW(df)\n",
    "df.head()"
   ]
  },
  {
   "cell_type": "code",
   "execution_count": 4,
   "id": "7614e9dc",
   "metadata": {},
   "outputs": [
    {
     "data": {
      "text/plain": [
       "((25, 14), (25, 14), (25, 14))"
      ]
     },
     "execution_count": 4,
     "metadata": {},
     "output_type": "execute_result"
    }
   ],
   "source": [
    "# top 1 for price of stock / # 2 for percent change mean\n",
    "df_ibm = df.where(df['stock'] == 'IBM')\n",
    "df_ibm = df_ibm.dropna()\n",
    "\n",
    "# top 1 for % change mean\n",
    "df_pfe = df.where(df['stock'] == 'PFE')\n",
    "df_pfe = df_pfe.dropna()\n",
    "\n",
    "# top 1 for volume\n",
    "df_bac = df.where(df['stock'] == 'BAC')\n",
    "df_bac = df_bac.dropna()\n",
    "\n",
    "\n",
    "# frankly, not enough data was in this DF but alas, we'll see how it goes\n",
    "df_ibm.shape, df_pfe.shape, df_bac.shape"
   ]
  },
  {
   "cell_type": "code",
   "execution_count": 5,
   "id": "57049901",
   "metadata": {},
   "outputs": [],
   "source": [
    "df_resampled = df_ibm.resample('w')[['percent_change_price','close','open']].sum()"
   ]
  },
  {
   "cell_type": "code",
   "execution_count": 6,
   "id": "e9db19a2",
   "metadata": {},
   "outputs": [
    {
     "data": {
      "text/html": [
       "<div>\n",
       "<style scoped>\n",
       "    .dataframe tbody tr th:only-of-type {\n",
       "        vertical-align: middle;\n",
       "    }\n",
       "\n",
       "    .dataframe tbody tr th {\n",
       "        vertical-align: top;\n",
       "    }\n",
       "\n",
       "    .dataframe thead th {\n",
       "        text-align: right;\n",
       "    }\n",
       "</style>\n",
       "<table border=\"1\" class=\"dataframe\">\n",
       "  <thead>\n",
       "    <tr style=\"text-align: right;\">\n",
       "      <th></th>\n",
       "      <th>percent_change_price</th>\n",
       "      <th>close</th>\n",
       "      <th>open</th>\n",
       "    </tr>\n",
       "    <tr>\n",
       "      <th>date</th>\n",
       "      <th></th>\n",
       "      <th></th>\n",
       "      <th></th>\n",
       "    </tr>\n",
       "  </thead>\n",
       "  <tbody>\n",
       "    <tr>\n",
       "      <th>2011-01-09</th>\n",
       "      <td>1.68998</td>\n",
       "      <td>164.27</td>\n",
       "      <td>161.54</td>\n",
       "    </tr>\n",
       "    <tr>\n",
       "      <th>2011-01-16</th>\n",
       "      <td>2.04082</td>\n",
       "      <td>150.00</td>\n",
       "      <td>147.00</td>\n",
       "    </tr>\n",
       "    <tr>\n",
       "      <th>2011-01-23</th>\n",
       "      <td>3.79122</td>\n",
       "      <td>155.50</td>\n",
       "      <td>149.82</td>\n",
       "    </tr>\n",
       "    <tr>\n",
       "      <th>2011-01-30</th>\n",
       "      <td>2.43855</td>\n",
       "      <td>159.21</td>\n",
       "      <td>155.42</td>\n",
       "    </tr>\n",
       "    <tr>\n",
       "      <th>2011-02-06</th>\n",
       "      <td>0.00000</td>\n",
       "      <td>0.00</td>\n",
       "      <td>0.00</td>\n",
       "    </tr>\n",
       "  </tbody>\n",
       "</table>\n",
       "</div>"
      ],
      "text/plain": [
       "            percent_change_price   close    open\n",
       "date                                            \n",
       "2011-01-09               1.68998  164.27  161.54\n",
       "2011-01-16               2.04082  150.00  147.00\n",
       "2011-01-23               3.79122  155.50  149.82\n",
       "2011-01-30               2.43855  159.21  155.42\n",
       "2011-02-06               0.00000    0.00    0.00"
      ]
     },
     "execution_count": 6,
     "metadata": {},
     "output_type": "execute_result"
    }
   ],
   "source": [
    "df_resampled.head()"
   ]
  },
  {
   "cell_type": "code",
   "execution_count": 7,
   "id": "21164d32",
   "metadata": {},
   "outputs": [
    {
     "data": {
      "text/plain": [
       "(44, 3)"
      ]
     },
     "execution_count": 7,
     "metadata": {},
     "output_type": "execute_result"
    }
   ],
   "source": [
    "df_resampled.shape"
   ]
  },
  {
   "cell_type": "code",
   "execution_count": 8,
   "id": "913fc9af",
   "metadata": {},
   "outputs": [
    {
     "data": {
      "text/plain": [
       "22"
      ]
     },
     "execution_count": 8,
     "metadata": {},
     "output_type": "execute_result"
    }
   ],
   "source": [
    "# set train size to be 50% of total \n",
    "train_size = int(round(df_resampled.shape[0] * 0.5))\n",
    "train_size"
   ]
  },
  {
   "cell_type": "code",
   "execution_count": 9,
   "id": "aa8e7450",
   "metadata": {},
   "outputs": [
    {
     "data": {
      "text/plain": [
       "13"
      ]
     },
     "execution_count": 9,
     "metadata": {},
     "output_type": "execute_result"
    }
   ],
   "source": [
    "# set validate size to be 30% of total \n",
    "validate_size = int(round(df_resampled.shape[0] * 0.3))\n",
    "validate_size"
   ]
  },
  {
   "cell_type": "code",
   "execution_count": 10,
   "id": "a327070f",
   "metadata": {},
   "outputs": [
    {
     "data": {
      "text/plain": [
       "9"
      ]
     },
     "execution_count": 10,
     "metadata": {},
     "output_type": "execute_result"
    }
   ],
   "source": [
    "# set test size to be number of rows remaining. \n",
    "test_size = int(round(df_resampled.shape[0] * 0.2))\n",
    "test_size"
   ]
  },
  {
   "cell_type": "code",
   "execution_count": 11,
   "id": "89232b24",
   "metadata": {},
   "outputs": [
    {
     "data": {
      "text/plain": [
       "True"
      ]
     },
     "execution_count": 11,
     "metadata": {},
     "output_type": "execute_result"
    }
   ],
   "source": [
    "len(df_resampled) == train_size + validate_size + test_size"
   ]
  },
  {
   "cell_type": "code",
   "execution_count": 12,
   "id": "1514c899",
   "metadata": {},
   "outputs": [
    {
     "data": {
      "text/plain": [
       "35"
      ]
     },
     "execution_count": 12,
     "metadata": {},
     "output_type": "execute_result"
    }
   ],
   "source": [
    "\n",
    "validate_end_index = train_size + validate_size\n",
    "validate_end_index"
   ]
  },
  {
   "cell_type": "code",
   "execution_count": 13,
   "id": "3e24bd5f",
   "metadata": {},
   "outputs": [],
   "source": [
    "train = df_resampled[:train_size]"
   ]
  },
  {
   "cell_type": "code",
   "execution_count": 14,
   "id": "76f7e61f",
   "metadata": {},
   "outputs": [],
   "source": [
    "validate = df_resampled[train_size:validate_end_index]"
   ]
  },
  {
   "cell_type": "code",
   "execution_count": 15,
   "id": "0ea60110",
   "metadata": {},
   "outputs": [
    {
     "data": {
      "text/html": [
       "<div>\n",
       "<style scoped>\n",
       "    .dataframe tbody tr th:only-of-type {\n",
       "        vertical-align: middle;\n",
       "    }\n",
       "\n",
       "    .dataframe tbody tr th {\n",
       "        vertical-align: top;\n",
       "    }\n",
       "\n",
       "    .dataframe thead th {\n",
       "        text-align: right;\n",
       "    }\n",
       "</style>\n",
       "<table border=\"1\" class=\"dataframe\">\n",
       "  <thead>\n",
       "    <tr style=\"text-align: right;\">\n",
       "      <th></th>\n",
       "      <th>percent_change_price</th>\n",
       "      <th>close</th>\n",
       "      <th>open</th>\n",
       "    </tr>\n",
       "    <tr>\n",
       "      <th>date</th>\n",
       "      <th></th>\n",
       "      <th></th>\n",
       "      <th></th>\n",
       "    </tr>\n",
       "  </thead>\n",
       "  <tbody>\n",
       "    <tr>\n",
       "      <th>2011-05-08</th>\n",
       "      <td>0.000000</td>\n",
       "      <td>0.00</td>\n",
       "      <td>0.00</td>\n",
       "    </tr>\n",
       "    <tr>\n",
       "      <th>2011-05-15</th>\n",
       "      <td>0.908605</td>\n",
       "      <td>169.92</td>\n",
       "      <td>168.39</td>\n",
       "    </tr>\n",
       "    <tr>\n",
       "      <th>2011-05-22</th>\n",
       "      <td>0.206113</td>\n",
       "      <td>170.16</td>\n",
       "      <td>169.81</td>\n",
       "    </tr>\n",
       "    <tr>\n",
       "      <th>2011-05-29</th>\n",
       "      <td>-0.593472</td>\n",
       "      <td>167.50</td>\n",
       "      <td>168.50</td>\n",
       "    </tr>\n",
       "    <tr>\n",
       "      <th>2011-06-05</th>\n",
       "      <td>-1.870900</td>\n",
       "      <td>168.89</td>\n",
       "      <td>172.11</td>\n",
       "    </tr>\n",
       "  </tbody>\n",
       "</table>\n",
       "</div>"
      ],
      "text/plain": [
       "            percent_change_price   close    open\n",
       "date                                            \n",
       "2011-05-08              0.000000    0.00    0.00\n",
       "2011-05-15              0.908605  169.92  168.39\n",
       "2011-05-22              0.206113  170.16  169.81\n",
       "2011-05-29             -0.593472  167.50  168.50\n",
       "2011-06-05             -1.870900  168.89  172.11"
      ]
     },
     "execution_count": 15,
     "metadata": {},
     "output_type": "execute_result"
    }
   ],
   "source": [
    "train.tail()"
   ]
  },
  {
   "cell_type": "code",
   "execution_count": 16,
   "id": "90b024e4",
   "metadata": {},
   "outputs": [
    {
     "data": {
      "text/html": [
       "<div>\n",
       "<style scoped>\n",
       "    .dataframe tbody tr th:only-of-type {\n",
       "        vertical-align: middle;\n",
       "    }\n",
       "\n",
       "    .dataframe tbody tr th {\n",
       "        vertical-align: top;\n",
       "    }\n",
       "\n",
       "    .dataframe thead th {\n",
       "        text-align: right;\n",
       "    }\n",
       "</style>\n",
       "<table border=\"1\" class=\"dataframe\">\n",
       "  <thead>\n",
       "    <tr style=\"text-align: right;\">\n",
       "      <th></th>\n",
       "      <th>percent_change_price</th>\n",
       "      <th>close</th>\n",
       "      <th>open</th>\n",
       "    </tr>\n",
       "    <tr>\n",
       "      <th>date</th>\n",
       "      <th></th>\n",
       "      <th></th>\n",
       "      <th></th>\n",
       "    </tr>\n",
       "  </thead>\n",
       "  <tbody>\n",
       "    <tr>\n",
       "      <th>2011-06-12</th>\n",
       "      <td>0.000000</td>\n",
       "      <td>0.00</td>\n",
       "      <td>0.00</td>\n",
       "    </tr>\n",
       "    <tr>\n",
       "      <th>2011-06-19</th>\n",
       "      <td>0.000000</td>\n",
       "      <td>164.44</td>\n",
       "      <td>164.44</td>\n",
       "    </tr>\n",
       "    <tr>\n",
       "      <th>2011-06-26</th>\n",
       "      <td>0.836897</td>\n",
       "      <td>165.07</td>\n",
       "      <td>163.70</td>\n",
       "    </tr>\n",
       "    <tr>\n",
       "      <th>2011-07-03</th>\n",
       "      <td>0.489097</td>\n",
       "      <td>147.93</td>\n",
       "      <td>147.21</td>\n",
       "    </tr>\n",
       "    <tr>\n",
       "      <th>2011-07-10</th>\n",
       "      <td>0.000000</td>\n",
       "      <td>0.00</td>\n",
       "      <td>0.00</td>\n",
       "    </tr>\n",
       "  </tbody>\n",
       "</table>\n",
       "</div>"
      ],
      "text/plain": [
       "            percent_change_price   close    open\n",
       "date                                            \n",
       "2011-06-12              0.000000    0.00    0.00\n",
       "2011-06-19              0.000000  164.44  164.44\n",
       "2011-06-26              0.836897  165.07  163.70\n",
       "2011-07-03              0.489097  147.93  147.21\n",
       "2011-07-10              0.000000    0.00    0.00"
      ]
     },
     "execution_count": 16,
     "metadata": {},
     "output_type": "execute_result"
    }
   ],
   "source": [
    "validate.head()"
   ]
  },
  {
   "cell_type": "code",
   "execution_count": 17,
   "id": "46b75021",
   "metadata": {},
   "outputs": [
    {
     "data": {
      "text/html": [
       "<div>\n",
       "<style scoped>\n",
       "    .dataframe tbody tr th:only-of-type {\n",
       "        vertical-align: middle;\n",
       "    }\n",
       "\n",
       "    .dataframe tbody tr th {\n",
       "        vertical-align: top;\n",
       "    }\n",
       "\n",
       "    .dataframe thead th {\n",
       "        text-align: right;\n",
       "    }\n",
       "</style>\n",
       "<table border=\"1\" class=\"dataframe\">\n",
       "  <thead>\n",
       "    <tr style=\"text-align: right;\">\n",
       "      <th></th>\n",
       "      <th>percent_change_price</th>\n",
       "      <th>close</th>\n",
       "      <th>open</th>\n",
       "    </tr>\n",
       "    <tr>\n",
       "      <th>date</th>\n",
       "      <th></th>\n",
       "      <th></th>\n",
       "      <th></th>\n",
       "    </tr>\n",
       "  </thead>\n",
       "  <tbody>\n",
       "    <tr>\n",
       "      <th>2011-08-07</th>\n",
       "      <td>-0.225033</td>\n",
       "      <td>164.05</td>\n",
       "      <td>164.42</td>\n",
       "    </tr>\n",
       "    <tr>\n",
       "      <th>2011-08-14</th>\n",
       "      <td>0.000000</td>\n",
       "      <td>0.00</td>\n",
       "      <td>0.00</td>\n",
       "    </tr>\n",
       "    <tr>\n",
       "      <th>2011-08-21</th>\n",
       "      <td>0.000000</td>\n",
       "      <td>0.00</td>\n",
       "      <td>0.00</td>\n",
       "    </tr>\n",
       "    <tr>\n",
       "      <th>2011-08-28</th>\n",
       "      <td>0.000000</td>\n",
       "      <td>0.00</td>\n",
       "      <td>0.00</td>\n",
       "    </tr>\n",
       "    <tr>\n",
       "      <th>2011-09-04</th>\n",
       "      <td>0.000000</td>\n",
       "      <td>0.00</td>\n",
       "      <td>0.00</td>\n",
       "    </tr>\n",
       "  </tbody>\n",
       "</table>\n",
       "</div>"
      ],
      "text/plain": [
       "            percent_change_price   close    open\n",
       "date                                            \n",
       "2011-08-07             -0.225033  164.05  164.42\n",
       "2011-08-14              0.000000    0.00    0.00\n",
       "2011-08-21              0.000000    0.00    0.00\n",
       "2011-08-28              0.000000    0.00    0.00\n",
       "2011-09-04              0.000000    0.00    0.00"
      ]
     },
     "execution_count": 17,
     "metadata": {},
     "output_type": "execute_result"
    }
   ],
   "source": [
    "validate.tail()"
   ]
  },
  {
   "cell_type": "code",
   "execution_count": 18,
   "id": "d789965b",
   "metadata": {},
   "outputs": [],
   "source": [
    "test = df_resampled[validate_end_index:]"
   ]
  },
  {
   "cell_type": "code",
   "execution_count": 19,
   "id": "4a0c3ffd",
   "metadata": {},
   "outputs": [
    {
     "data": {
      "text/plain": [
       "(22, 13, 9)"
      ]
     },
     "execution_count": 19,
     "metadata": {},
     "output_type": "execute_result"
    }
   ],
   "source": [
    "train.shape[0], validate.shape[0], test.shape[0]"
   ]
  },
  {
   "cell_type": "code",
   "execution_count": 20,
   "id": "67c9648e",
   "metadata": {},
   "outputs": [
    {
     "data": {
      "text/plain": [
       "True"
      ]
     },
     "execution_count": 20,
     "metadata": {},
     "output_type": "execute_result"
    }
   ],
   "source": [
    "len(train) + len(validate) + len(test) == len(df_resampled)"
   ]
  },
  {
   "cell_type": "code",
   "execution_count": 21,
   "id": "0d58061f",
   "metadata": {},
   "outputs": [
    {
     "name": "stdout",
     "output_type": "stream",
     "text": [
      "            percent_change_price  close  open\n",
      "date                                         \n",
      "2011-01-09                  True   True  True\n"
     ]
    }
   ],
   "source": [
    "print(df_resampled.head(1) == train.head(1))"
   ]
  },
  {
   "cell_type": "code",
   "execution_count": 22,
   "id": "9f44d3c2",
   "metadata": {},
   "outputs": [
    {
     "data": {
      "text/html": [
       "<div>\n",
       "<style scoped>\n",
       "    .dataframe tbody tr th:only-of-type {\n",
       "        vertical-align: middle;\n",
       "    }\n",
       "\n",
       "    .dataframe tbody tr th {\n",
       "        vertical-align: top;\n",
       "    }\n",
       "\n",
       "    .dataframe thead th {\n",
       "        text-align: right;\n",
       "    }\n",
       "</style>\n",
       "<table border=\"1\" class=\"dataframe\">\n",
       "  <thead>\n",
       "    <tr style=\"text-align: right;\">\n",
       "      <th></th>\n",
       "      <th>percent_change_price</th>\n",
       "      <th>close</th>\n",
       "      <th>open</th>\n",
       "    </tr>\n",
       "    <tr>\n",
       "      <th>date</th>\n",
       "      <th></th>\n",
       "      <th></th>\n",
       "      <th></th>\n",
       "    </tr>\n",
       "  </thead>\n",
       "  <tbody>\n",
       "    <tr>\n",
       "      <th>2011-06-05</th>\n",
       "      <td>-1.8709</td>\n",
       "      <td>168.89</td>\n",
       "      <td>172.11</td>\n",
       "    </tr>\n",
       "    <tr>\n",
       "      <th>2011-06-12</th>\n",
       "      <td>0.0000</td>\n",
       "      <td>0.00</td>\n",
       "      <td>0.00</td>\n",
       "    </tr>\n",
       "  </tbody>\n",
       "</table>\n",
       "</div>"
      ],
      "text/plain": [
       "            percent_change_price   close    open\n",
       "date                                            \n",
       "2011-06-05               -1.8709  168.89  172.11\n",
       "2011-06-12                0.0000    0.00    0.00"
      ]
     },
     "execution_count": 22,
     "metadata": {},
     "output_type": "execute_result"
    }
   ],
   "source": [
    "pd.concat([train.tail(1), validate.head(1)])"
   ]
  },
  {
   "cell_type": "code",
   "execution_count": 23,
   "id": "24019213",
   "metadata": {},
   "outputs": [
    {
     "data": {
      "text/html": [
       "<div>\n",
       "<style scoped>\n",
       "    .dataframe tbody tr th:only-of-type {\n",
       "        vertical-align: middle;\n",
       "    }\n",
       "\n",
       "    .dataframe tbody tr th {\n",
       "        vertical-align: top;\n",
       "    }\n",
       "\n",
       "    .dataframe thead th {\n",
       "        text-align: right;\n",
       "    }\n",
       "</style>\n",
       "<table border=\"1\" class=\"dataframe\">\n",
       "  <thead>\n",
       "    <tr style=\"text-align: right;\">\n",
       "      <th></th>\n",
       "      <th>percent_change_price</th>\n",
       "      <th>close</th>\n",
       "      <th>open</th>\n",
       "    </tr>\n",
       "    <tr>\n",
       "      <th>date</th>\n",
       "      <th></th>\n",
       "      <th></th>\n",
       "      <th></th>\n",
       "    </tr>\n",
       "  </thead>\n",
       "  <tbody>\n",
       "    <tr>\n",
       "      <th>2011-09-04</th>\n",
       "      <td>0.0</td>\n",
       "      <td>0.0</td>\n",
       "      <td>0.0</td>\n",
       "    </tr>\n",
       "    <tr>\n",
       "      <th>2011-09-11</th>\n",
       "      <td>0.0</td>\n",
       "      <td>0.0</td>\n",
       "      <td>0.0</td>\n",
       "    </tr>\n",
       "  </tbody>\n",
       "</table>\n",
       "</div>"
      ],
      "text/plain": [
       "            percent_change_price  close  open\n",
       "date                                         \n",
       "2011-09-04                   0.0    0.0   0.0\n",
       "2011-09-11                   0.0    0.0   0.0"
      ]
     },
     "execution_count": 23,
     "metadata": {},
     "output_type": "execute_result"
    }
   ],
   "source": [
    "pd.concat([validate.tail(1), test.head(1)])"
   ]
  },
  {
   "cell_type": "code",
   "execution_count": 24,
   "id": "a53f20c4",
   "metadata": {},
   "outputs": [
    {
     "name": "stderr",
     "output_type": "stream",
     "text": [
      "findfont: Font family ['sans serif'] not found. Falling back to DejaVu Sans.\n",
      "findfont: Generic family 'sans serif' not found because none of the following families were found: SimHei\n",
      "findfont: Font family ['sans serif'] not found. Falling back to DejaVu Sans.\n",
      "findfont: Generic family 'sans serif' not found because none of the following families were found: SimHei\n",
      "findfont: Font family ['sans serif'] not found. Falling back to DejaVu Sans.\n",
      "findfont: Generic family 'sans serif' not found because none of the following families were found: SimHei\n"
     ]
    }
   ],
   "source": [
    "for col in train.columns:\n",
    "    plt.figure(figsize=(14,8))\n",
    "    plt.plot(train[col])\n",
    "    plt.plot(validate[col])\n",
    "    plt.plot(test[col])\n",
    "    plt.ylabel(col)\n",
    "    plt.title(col)\n",
    "    plt.show()"
   ]
  },
  {
   "cell_type": "code",
   "execution_count": 25,
   "id": "0e7eef57",
   "metadata": {},
   "outputs": [],
   "source": [
    "def evaluate(target_var):\n",
    "    '''\n",
    "    This function will take the actual values of the target_var from validate, \n",
    "    and the predicted values stored in yhat_df, \n",
    "    and compute the rmse, rounding to 0 decimal places. \n",
    "    it will return the rmse. \n",
    "    '''\n",
    "    rmse = round(sqrt(mean_squared_error(validate[target_var], yhat_df[target_var])), 0)\n",
    "    return rmse"
   ]
  },
  {
   "cell_type": "code",
   "execution_count": 26,
   "id": "e3ce012d",
   "metadata": {},
   "outputs": [],
   "source": [
    "def plot_and_eval(target_var):\n",
    "    '''\n",
    "    This function takes in the target var name (string), and returns a plot\n",
    "    of the values of train for that variable, validate, and the predicted values from yhat_df. \n",
    "    it will als lable the rmse. \n",
    "    '''\n",
    "    plt.figure(figsize = (12,4))\n",
    "    plt.plot(train[target_var], label='Train', linewidth=1)\n",
    "    plt.plot(validate[target_var], label='Validate', linewidth=1)\n",
    "    plt.plot(yhat_df[target_var])\n",
    "    plt.title(target_var)\n",
    "    rmse = evaluate(target_var)\n",
    "    print(target_var, '-- RMSE: {:.0f}'.format(rmse))\n",
    "    plt.show()"
   ]
  },
  {
   "cell_type": "code",
   "execution_count": 27,
   "id": "d10a2c9e",
   "metadata": {},
   "outputs": [
    {
     "data": {
      "text/html": [
       "<div>\n",
       "<style scoped>\n",
       "    .dataframe tbody tr th:only-of-type {\n",
       "        vertical-align: middle;\n",
       "    }\n",
       "\n",
       "    .dataframe tbody tr th {\n",
       "        vertical-align: top;\n",
       "    }\n",
       "\n",
       "    .dataframe thead th {\n",
       "        text-align: right;\n",
       "    }\n",
       "</style>\n",
       "<table border=\"1\" class=\"dataframe\">\n",
       "  <thead>\n",
       "    <tr style=\"text-align: right;\">\n",
       "      <th></th>\n",
       "      <th>model_type</th>\n",
       "      <th>target_var</th>\n",
       "      <th>rmse</th>\n",
       "    </tr>\n",
       "  </thead>\n",
       "  <tbody>\n",
       "  </tbody>\n",
       "</table>\n",
       "</div>"
      ],
      "text/plain": [
       "Empty DataFrame\n",
       "Columns: [model_type, target_var, rmse]\n",
       "Index: []"
      ]
     },
     "execution_count": 27,
     "metadata": {},
     "output_type": "execute_result"
    }
   ],
   "source": [
    "# create an empty dataframe\n",
    "eval_df = pd.DataFrame(columns=['model_type', 'target_var', 'rmse'])\n",
    "eval_df"
   ]
  },
  {
   "cell_type": "code",
   "execution_count": 28,
   "id": "641e8e8a",
   "metadata": {},
   "outputs": [],
   "source": [
    "# function to store the rmse so that we can compare\n",
    "def append_eval_df(model_type, target_var):\n",
    "    '''\n",
    "    this function takes in as arguments the type of model run, and the name of the target variable. \n",
    "    It returns the eval_df with the rmse appended to it for that model and target_var. \n",
    "    '''\n",
    "    rmse = evaluate(target_var)\n",
    "    d = {'model_type': [model_type], 'target_var': [target_var],\n",
    "        'rmse': [rmse]}\n",
    "    d = pd.DataFrame(d)\n",
    "    return eval_df.append(d, ignore_index = True)"
   ]
  },
  {
   "cell_type": "code",
   "execution_count": 29,
   "id": "2862dced",
   "metadata": {},
   "outputs": [
    {
     "data": {
      "text/html": [
       "<div>\n",
       "<style scoped>\n",
       "    .dataframe tbody tr th:only-of-type {\n",
       "        vertical-align: middle;\n",
       "    }\n",
       "\n",
       "    .dataframe tbody tr th {\n",
       "        vertical-align: top;\n",
       "    }\n",
       "\n",
       "    .dataframe thead th {\n",
       "        text-align: right;\n",
       "    }\n",
       "</style>\n",
       "<table border=\"1\" class=\"dataframe\">\n",
       "  <thead>\n",
       "    <tr style=\"text-align: right;\">\n",
       "      <th></th>\n",
       "      <th>percent_change_price</th>\n",
       "      <th>close</th>\n",
       "      <th>open</th>\n",
       "    </tr>\n",
       "    <tr>\n",
       "      <th>date</th>\n",
       "      <th></th>\n",
       "      <th></th>\n",
       "      <th></th>\n",
       "    </tr>\n",
       "  </thead>\n",
       "  <tbody>\n",
       "    <tr>\n",
       "      <th>2011-01-09</th>\n",
       "      <td>1.68998</td>\n",
       "      <td>164.27</td>\n",
       "      <td>161.54</td>\n",
       "    </tr>\n",
       "  </tbody>\n",
       "</table>\n",
       "</div>"
      ],
      "text/plain": [
       "            percent_change_price   close    open\n",
       "date                                            \n",
       "2011-01-09               1.68998  164.27  161.54"
      ]
     },
     "execution_count": 29,
     "metadata": {},
     "output_type": "execute_result"
    }
   ],
   "source": [
    "train.head(1)"
   ]
  },
  {
   "cell_type": "code",
   "execution_count": 30,
   "id": "1718196a",
   "metadata": {},
   "outputs": [
    {
     "data": {
      "text/plain": [
       "-1.8709"
      ]
     },
     "execution_count": 30,
     "metadata": {},
     "output_type": "execute_result"
    }
   ],
   "source": [
    "train['percent_change_price'][-1:][0]"
   ]
  },
  {
   "cell_type": "code",
   "execution_count": 31,
   "id": "8118715d",
   "metadata": {},
   "outputs": [
    {
     "data": {
      "text/plain": [
       "-1.8709"
      ]
     },
     "execution_count": 31,
     "metadata": {},
     "output_type": "execute_result"
    }
   ],
   "source": [
    "last_change = train['percent_change_price'][-1:][0]\n",
    "last_change"
   ]
  },
  {
   "cell_type": "code",
   "execution_count": 32,
   "id": "f5383463",
   "metadata": {},
   "outputs": [
    {
     "data": {
      "text/plain": [
       "168.89"
      ]
     },
     "execution_count": 32,
     "metadata": {},
     "output_type": "execute_result"
    }
   ],
   "source": [
    "last_close = train['close'][-1:][0]\n",
    "last_close"
   ]
  },
  {
   "cell_type": "code",
   "execution_count": 33,
   "id": "ea2f1228",
   "metadata": {},
   "outputs": [
    {
     "data": {
      "text/plain": [
       "172.11"
      ]
     },
     "execution_count": 33,
     "metadata": {},
     "output_type": "execute_result"
    }
   ],
   "source": [
    "last_open = train['open'][-1:][0]\n",
    "last_open"
   ]
  },
  {
   "cell_type": "code",
   "execution_count": 34,
   "id": "1ebbd3d5",
   "metadata": {},
   "outputs": [
    {
     "data": {
      "text/html": [
       "<div>\n",
       "<style scoped>\n",
       "    .dataframe tbody tr th:only-of-type {\n",
       "        vertical-align: middle;\n",
       "    }\n",
       "\n",
       "    .dataframe tbody tr th {\n",
       "        vertical-align: top;\n",
       "    }\n",
       "\n",
       "    .dataframe thead th {\n",
       "        text-align: right;\n",
       "    }\n",
       "</style>\n",
       "<table border=\"1\" class=\"dataframe\">\n",
       "  <thead>\n",
       "    <tr style=\"text-align: right;\">\n",
       "      <th></th>\n",
       "      <th>percent_change_price</th>\n",
       "      <th>close</th>\n",
       "      <th>open</th>\n",
       "    </tr>\n",
       "    <tr>\n",
       "      <th>date</th>\n",
       "      <th></th>\n",
       "      <th></th>\n",
       "      <th></th>\n",
       "    </tr>\n",
       "  </thead>\n",
       "  <tbody>\n",
       "    <tr>\n",
       "      <th>2011-06-12</th>\n",
       "      <td>-1.8709</td>\n",
       "      <td>168.89</td>\n",
       "      <td>172.11</td>\n",
       "    </tr>\n",
       "    <tr>\n",
       "      <th>2011-06-19</th>\n",
       "      <td>-1.8709</td>\n",
       "      <td>168.89</td>\n",
       "      <td>172.11</td>\n",
       "    </tr>\n",
       "    <tr>\n",
       "      <th>2011-06-26</th>\n",
       "      <td>-1.8709</td>\n",
       "      <td>168.89</td>\n",
       "      <td>172.11</td>\n",
       "    </tr>\n",
       "    <tr>\n",
       "      <th>2011-07-03</th>\n",
       "      <td>-1.8709</td>\n",
       "      <td>168.89</td>\n",
       "      <td>172.11</td>\n",
       "    </tr>\n",
       "    <tr>\n",
       "      <th>2011-07-10</th>\n",
       "      <td>-1.8709</td>\n",
       "      <td>168.89</td>\n",
       "      <td>172.11</td>\n",
       "    </tr>\n",
       "  </tbody>\n",
       "</table>\n",
       "</div>"
      ],
      "text/plain": [
       "            percent_change_price   close    open\n",
       "date                                            \n",
       "2011-06-12               -1.8709  168.89  172.11\n",
       "2011-06-19               -1.8709  168.89  172.11\n",
       "2011-06-26               -1.8709  168.89  172.11\n",
       "2011-07-03               -1.8709  168.89  172.11\n",
       "2011-07-10               -1.8709  168.89  172.11"
      ]
     },
     "execution_count": 34,
     "metadata": {},
     "output_type": "execute_result"
    }
   ],
   "source": [
    "yhat_df = pd.DataFrame(\n",
    "    {'percent_change_price': [last_change],\n",
    "     'close': [last_close],\n",
    "    'open': [last_open]},\n",
    "    index=validate.index)\n",
    "\n",
    "yhat_df.head()"
   ]
  },
  {
   "cell_type": "code",
   "execution_count": 35,
   "id": "381d511e",
   "metadata": {},
   "outputs": [
    {
     "data": {
      "text/html": [
       "<div>\n",
       "<style scoped>\n",
       "    .dataframe tbody tr th:only-of-type {\n",
       "        vertical-align: middle;\n",
       "    }\n",
       "\n",
       "    .dataframe tbody tr th {\n",
       "        vertical-align: top;\n",
       "    }\n",
       "\n",
       "    .dataframe thead th {\n",
       "        text-align: right;\n",
       "    }\n",
       "</style>\n",
       "<table border=\"1\" class=\"dataframe\">\n",
       "  <thead>\n",
       "    <tr style=\"text-align: right;\">\n",
       "      <th></th>\n",
       "      <th>percent_change_price</th>\n",
       "      <th>close</th>\n",
       "      <th>open</th>\n",
       "    </tr>\n",
       "  </thead>\n",
       "  <tbody>\n",
       "    <tr>\n",
       "      <th>count</th>\n",
       "      <td>1.300000e+01</td>\n",
       "      <td>1.300000e+01</td>\n",
       "      <td>1.300000e+01</td>\n",
       "    </tr>\n",
       "    <tr>\n",
       "      <th>mean</th>\n",
       "      <td>-1.870900e+00</td>\n",
       "      <td>1.688900e+02</td>\n",
       "      <td>1.721100e+02</td>\n",
       "    </tr>\n",
       "    <tr>\n",
       "      <th>std</th>\n",
       "      <td>2.311114e-16</td>\n",
       "      <td>5.916451e-14</td>\n",
       "      <td>5.916451e-14</td>\n",
       "    </tr>\n",
       "    <tr>\n",
       "      <th>min</th>\n",
       "      <td>-1.870900e+00</td>\n",
       "      <td>1.688900e+02</td>\n",
       "      <td>1.721100e+02</td>\n",
       "    </tr>\n",
       "    <tr>\n",
       "      <th>25%</th>\n",
       "      <td>-1.870900e+00</td>\n",
       "      <td>1.688900e+02</td>\n",
       "      <td>1.721100e+02</td>\n",
       "    </tr>\n",
       "    <tr>\n",
       "      <th>50%</th>\n",
       "      <td>-1.870900e+00</td>\n",
       "      <td>1.688900e+02</td>\n",
       "      <td>1.721100e+02</td>\n",
       "    </tr>\n",
       "    <tr>\n",
       "      <th>75%</th>\n",
       "      <td>-1.870900e+00</td>\n",
       "      <td>1.688900e+02</td>\n",
       "      <td>1.721100e+02</td>\n",
       "    </tr>\n",
       "    <tr>\n",
       "      <th>max</th>\n",
       "      <td>-1.870900e+00</td>\n",
       "      <td>1.688900e+02</td>\n",
       "      <td>1.721100e+02</td>\n",
       "    </tr>\n",
       "  </tbody>\n",
       "</table>\n",
       "</div>"
      ],
      "text/plain": [
       "       percent_change_price         close          open\n",
       "count          1.300000e+01  1.300000e+01  1.300000e+01\n",
       "mean          -1.870900e+00  1.688900e+02  1.721100e+02\n",
       "std            2.311114e-16  5.916451e-14  5.916451e-14\n",
       "min           -1.870900e+00  1.688900e+02  1.721100e+02\n",
       "25%           -1.870900e+00  1.688900e+02  1.721100e+02\n",
       "50%           -1.870900e+00  1.688900e+02  1.721100e+02\n",
       "75%           -1.870900e+00  1.688900e+02  1.721100e+02\n",
       "max           -1.870900e+00  1.688900e+02  1.721100e+02"
      ]
     },
     "execution_count": 35,
     "metadata": {},
     "output_type": "execute_result"
    }
   ],
   "source": [
    "yhat_df.describe()"
   ]
  },
  {
   "cell_type": "code",
   "execution_count": null,
   "id": "7600b268",
   "metadata": {},
   "outputs": [],
   "source": []
  },
  {
   "cell_type": "code",
   "execution_count": 36,
   "id": "1b1cba2d",
   "metadata": {},
   "outputs": [
    {
     "name": "stdout",
     "output_type": "stream",
     "text": [
      "percent_change_price -- RMSE: 2\n",
      "close -- RMSE: 141\n",
      "open -- RMSE: 143\n"
     ]
    }
   ],
   "source": [
    "for col in train.columns:\n",
    "    plot_and_eval(col)"
   ]
  },
  {
   "cell_type": "code",
   "execution_count": 37,
   "id": "528a967e",
   "metadata": {},
   "outputs": [
    {
     "data": {
      "text/html": [
       "<div>\n",
       "<style scoped>\n",
       "    .dataframe tbody tr th:only-of-type {\n",
       "        vertical-align: middle;\n",
       "    }\n",
       "\n",
       "    .dataframe tbody tr th {\n",
       "        vertical-align: top;\n",
       "    }\n",
       "\n",
       "    .dataframe thead th {\n",
       "        text-align: right;\n",
       "    }\n",
       "</style>\n",
       "<table border=\"1\" class=\"dataframe\">\n",
       "  <thead>\n",
       "    <tr style=\"text-align: right;\">\n",
       "      <th></th>\n",
       "      <th>model_type</th>\n",
       "      <th>target_var</th>\n",
       "      <th>rmse</th>\n",
       "    </tr>\n",
       "  </thead>\n",
       "  <tbody>\n",
       "    <tr>\n",
       "      <th>0</th>\n",
       "      <td>last_observed_value</td>\n",
       "      <td>percent_change_price</td>\n",
       "      <td>2.0</td>\n",
       "    </tr>\n",
       "    <tr>\n",
       "      <th>1</th>\n",
       "      <td>last_observed_value</td>\n",
       "      <td>close</td>\n",
       "      <td>141.0</td>\n",
       "    </tr>\n",
       "    <tr>\n",
       "      <th>2</th>\n",
       "      <td>last_observed_value</td>\n",
       "      <td>open</td>\n",
       "      <td>143.0</td>\n",
       "    </tr>\n",
       "  </tbody>\n",
       "</table>\n",
       "</div>"
      ],
      "text/plain": [
       "            model_type            target_var   rmse\n",
       "0  last_observed_value  percent_change_price    2.0\n",
       "1  last_observed_value                 close  141.0\n",
       "2  last_observed_value                  open  143.0"
      ]
     },
     "execution_count": 37,
     "metadata": {},
     "output_type": "execute_result"
    }
   ],
   "source": [
    "for col in train.columns:\n",
    "    eval_df = append_eval_df(model_type = 'last_observed_value', \n",
    "                             target_var = col)\n",
    "\n",
    "eval_df"
   ]
  },
  {
   "cell_type": "markdown",
   "id": "58ba5f80",
   "metadata": {},
   "source": [
    "# Lets try Simple AVG"
   ]
  },
  {
   "cell_type": "code",
   "execution_count": 38,
   "id": "fc1289a2",
   "metadata": {},
   "outputs": [
    {
     "data": {
      "text/plain": [
       "0.64"
      ]
     },
     "execution_count": 38,
     "metadata": {},
     "output_type": "execute_result"
    }
   ],
   "source": [
    "avg_change = round(train['percent_change_price'].mean(), 2)\n",
    "avg_change"
   ]
  },
  {
   "cell_type": "code",
   "execution_count": 39,
   "id": "5effdd75",
   "metadata": {},
   "outputs": [
    {
     "data": {
      "text/plain": [
       "133.94"
      ]
     },
     "execution_count": 39,
     "metadata": {},
     "output_type": "execute_result"
    }
   ],
   "source": [
    "avg_close = round(train['close'].mean(), 2)\n",
    "avg_close"
   ]
  },
  {
   "cell_type": "code",
   "execution_count": 40,
   "id": "b18bef6c",
   "metadata": {},
   "outputs": [
    {
     "data": {
      "text/plain": [
       "132.95"
      ]
     },
     "execution_count": 40,
     "metadata": {},
     "output_type": "execute_result"
    }
   ],
   "source": [
    "avg_open = round(train['open'].mean(), 2)\n",
    "avg_open"
   ]
  },
  {
   "cell_type": "code",
   "execution_count": 41,
   "id": "85ea9412",
   "metadata": {},
   "outputs": [],
   "source": [
    "def make_predictions(avg_change=None, avg_close=None, avg_open=None):\n",
    "    yhat_df = pd.DataFrame({'percent_change_price': [avg_change],\n",
    "                           'close': [avg_close],\n",
    "                           'open': [avg_open]},\n",
    "                          index=validate.index)\n",
    "    return yhat_df"
   ]
  },
  {
   "cell_type": "code",
   "execution_count": 42,
   "id": "67edac41",
   "metadata": {},
   "outputs": [],
   "source": [
    "yhat_df = make_predictions(avg_change, avg_close, avg_open)"
   ]
  },
  {
   "cell_type": "code",
   "execution_count": 43,
   "id": "a75195ee",
   "metadata": {},
   "outputs": [
    {
     "data": {
      "text/html": [
       "<div>\n",
       "<style scoped>\n",
       "    .dataframe tbody tr th:only-of-type {\n",
       "        vertical-align: middle;\n",
       "    }\n",
       "\n",
       "    .dataframe tbody tr th {\n",
       "        vertical-align: top;\n",
       "    }\n",
       "\n",
       "    .dataframe thead th {\n",
       "        text-align: right;\n",
       "    }\n",
       "</style>\n",
       "<table border=\"1\" class=\"dataframe\">\n",
       "  <thead>\n",
       "    <tr style=\"text-align: right;\">\n",
       "      <th></th>\n",
       "      <th>percent_change_price</th>\n",
       "      <th>close</th>\n",
       "      <th>open</th>\n",
       "    </tr>\n",
       "    <tr>\n",
       "      <th>date</th>\n",
       "      <th></th>\n",
       "      <th></th>\n",
       "      <th></th>\n",
       "    </tr>\n",
       "  </thead>\n",
       "  <tbody>\n",
       "    <tr>\n",
       "      <th>2011-06-12</th>\n",
       "      <td>0.64</td>\n",
       "      <td>133.94</td>\n",
       "      <td>132.95</td>\n",
       "    </tr>\n",
       "    <tr>\n",
       "      <th>2011-06-19</th>\n",
       "      <td>0.64</td>\n",
       "      <td>133.94</td>\n",
       "      <td>132.95</td>\n",
       "    </tr>\n",
       "    <tr>\n",
       "      <th>2011-06-26</th>\n",
       "      <td>0.64</td>\n",
       "      <td>133.94</td>\n",
       "      <td>132.95</td>\n",
       "    </tr>\n",
       "    <tr>\n",
       "      <th>2011-07-03</th>\n",
       "      <td>0.64</td>\n",
       "      <td>133.94</td>\n",
       "      <td>132.95</td>\n",
       "    </tr>\n",
       "    <tr>\n",
       "      <th>2011-07-10</th>\n",
       "      <td>0.64</td>\n",
       "      <td>133.94</td>\n",
       "      <td>132.95</td>\n",
       "    </tr>\n",
       "  </tbody>\n",
       "</table>\n",
       "</div>"
      ],
      "text/plain": [
       "            percent_change_price   close    open\n",
       "date                                            \n",
       "2011-06-12                  0.64  133.94  132.95\n",
       "2011-06-19                  0.64  133.94  132.95\n",
       "2011-06-26                  0.64  133.94  132.95\n",
       "2011-07-03                  0.64  133.94  132.95\n",
       "2011-07-10                  0.64  133.94  132.95"
      ]
     },
     "execution_count": 43,
     "metadata": {},
     "output_type": "execute_result"
    }
   ],
   "source": [
    "yhat_df.head()"
   ]
  },
  {
   "cell_type": "code",
   "execution_count": 44,
   "id": "f4c42d04",
   "metadata": {},
   "outputs": [
    {
     "name": "stdout",
     "output_type": "stream",
     "text": [
      "percent_change_price -- RMSE: 1\n",
      "close -- RMSE: 112\n",
      "open -- RMSE: 112\n"
     ]
    }
   ],
   "source": [
    "for col in train.columns:\n",
    "    plot_and_eval(col)"
   ]
  },
  {
   "cell_type": "code",
   "execution_count": 45,
   "id": "5f177df7",
   "metadata": {},
   "outputs": [
    {
     "data": {
      "text/html": [
       "<div>\n",
       "<style scoped>\n",
       "    .dataframe tbody tr th:only-of-type {\n",
       "        vertical-align: middle;\n",
       "    }\n",
       "\n",
       "    .dataframe tbody tr th {\n",
       "        vertical-align: top;\n",
       "    }\n",
       "\n",
       "    .dataframe thead th {\n",
       "        text-align: right;\n",
       "    }\n",
       "</style>\n",
       "<table border=\"1\" class=\"dataframe\">\n",
       "  <thead>\n",
       "    <tr style=\"text-align: right;\">\n",
       "      <th></th>\n",
       "      <th>model_type</th>\n",
       "      <th>target_var</th>\n",
       "      <th>rmse</th>\n",
       "    </tr>\n",
       "  </thead>\n",
       "  <tbody>\n",
       "    <tr>\n",
       "      <th>0</th>\n",
       "      <td>last_observed_value</td>\n",
       "      <td>percent_change_price</td>\n",
       "      <td>2.0</td>\n",
       "    </tr>\n",
       "    <tr>\n",
       "      <th>1</th>\n",
       "      <td>last_observed_value</td>\n",
       "      <td>close</td>\n",
       "      <td>141.0</td>\n",
       "    </tr>\n",
       "    <tr>\n",
       "      <th>2</th>\n",
       "      <td>last_observed_value</td>\n",
       "      <td>open</td>\n",
       "      <td>143.0</td>\n",
       "    </tr>\n",
       "    <tr>\n",
       "      <th>3</th>\n",
       "      <td>simple_average</td>\n",
       "      <td>percent_change_price</td>\n",
       "      <td>1.0</td>\n",
       "    </tr>\n",
       "    <tr>\n",
       "      <th>4</th>\n",
       "      <td>simple_average</td>\n",
       "      <td>close</td>\n",
       "      <td>112.0</td>\n",
       "    </tr>\n",
       "    <tr>\n",
       "      <th>5</th>\n",
       "      <td>simple_average</td>\n",
       "      <td>open</td>\n",
       "      <td>112.0</td>\n",
       "    </tr>\n",
       "  </tbody>\n",
       "</table>\n",
       "</div>"
      ],
      "text/plain": [
       "            model_type            target_var   rmse\n",
       "0  last_observed_value  percent_change_price    2.0\n",
       "1  last_observed_value                 close  141.0\n",
       "2  last_observed_value                  open  143.0\n",
       "3       simple_average  percent_change_price    1.0\n",
       "4       simple_average                 close  112.0\n",
       "5       simple_average                  open  112.0"
      ]
     },
     "execution_count": 45,
     "metadata": {},
     "output_type": "execute_result"
    }
   ],
   "source": [
    "for col in train.columns:\n",
    "    eval_df = append_eval_df(model_type='simple_average', \n",
    "                            target_var = col)\n",
    "eval_df"
   ]
  },
  {
   "cell_type": "markdown",
   "id": "97b6747a",
   "metadata": {},
   "source": [
    "# Time to move it (AVG)"
   ]
  },
  {
   "cell_type": "code",
   "execution_count": 46,
   "id": "e0d100aa",
   "metadata": {},
   "outputs": [
    {
     "name": "stdout",
     "output_type": "stream",
     "text": [
      "date\n",
      "2011-01-09         NaN\n",
      "2011-01-16         NaN\n",
      "2011-01-23         NaN\n",
      "2011-01-30    2.490143\n",
      "2011-02-06    2.067648\n",
      "2011-02-13    1.557443\n",
      "2011-02-20    0.710137\n",
      "2011-02-27   -0.096664\n",
      "2011-03-06   -0.599811\n",
      "2011-03-13   -0.599811\n",
      "2011-03-20   -1.517821\n",
      "2011-03-27   -0.600662\n",
      "2011-04-03    0.577881\n",
      "2011-04-10    0.577881\n",
      "2011-04-17    1.819094\n",
      "2011-04-24    1.651819\n",
      "2011-05-01    1.413345\n",
      "2011-05-08    1.413345\n",
      "2011-05-15    1.216794\n",
      "2011-05-22    0.715602\n",
      "2011-05-29    0.130311\n",
      "2011-06-05   -0.337414\n",
      "Freq: W-SUN, Name: percent_change_price, dtype: float64\n",
      "date\n",
      "2011-01-09         NaN\n",
      "2011-01-16         NaN\n",
      "2011-01-23         NaN\n",
      "2011-01-30    157.2450\n",
      "2011-02-06    116.1775\n",
      "2011-02-13     78.6775\n",
      "2011-02-20     81.0125\n",
      "2011-02-27     81.7800\n",
      "2011-03-06    123.0425\n",
      "2011-03-13    123.0425\n",
      "2011-03-20    120.8050\n",
      "2011-03-27    120.7800\n",
      "2011-04-03    160.9750\n",
      "2011-04-10    160.9750\n",
      "2011-04-17    163.5550\n",
      "2011-04-24    165.0800\n",
      "2011-05-01    126.2675\n",
      "2011-05-08    126.2675\n",
      "2011-05-15    127.1950\n",
      "2011-05-22    127.6650\n",
      "2011-05-29    126.8950\n",
      "2011-06-05    169.1175\n",
      "Freq: W-SUN, Name: close, dtype: float64\n",
      "date\n",
      "2011-01-09         NaN\n",
      "2011-01-16         NaN\n",
      "2011-01-23         NaN\n",
      "2011-01-30    153.4450\n",
      "2011-02-06    113.0600\n",
      "2011-02-13     76.3100\n",
      "2011-02-20     79.9000\n",
      "2011-02-27     81.9375\n",
      "2011-03-06    124.0475\n",
      "2011-03-13    124.0475\n",
      "2011-03-20    123.2925\n",
      "2011-03-27    121.8100\n",
      "2011-04-03    160.0850\n",
      "2011-04-10    160.0850\n",
      "2011-04-17    160.6550\n",
      "2011-04-24    162.4050\n",
      "2011-05-01    123.9325\n",
      "2011-05-08    123.9325\n",
      "2011-05-15    125.1700\n",
      "2011-05-22    126.4625\n",
      "2011-05-29    126.6750\n",
      "2011-06-05    169.7025\n",
      "Freq: W-SUN, Name: open, dtype: float64\n"
     ]
    }
   ],
   "source": [
    "for col in train.columns:\n",
    "    print(train[col].rolling(4).mean())"
   ]
  },
  {
   "cell_type": "code",
   "execution_count": 47,
   "id": "557d91b1",
   "metadata": {},
   "outputs": [
    {
     "name": "stdout",
     "output_type": "stream",
     "text": [
      "-0.34 169.7 169.12\n"
     ]
    }
   ],
   "source": [
    "period=4\n",
    "# rolling avg over 4 weeks\n",
    "rolling_change = round(train['percent_change_price'].rolling(period).mean()[-1], 2)\n",
    "rolling_open = round(train['open'].rolling(period).mean()[-1], 2)\n",
    "rolling_close = round(train['close'].rolling(period).mean()[-1], 2)\n",
    "print(rolling_change, rolling_open, rolling_close)\n",
    "\n"
   ]
  },
  {
   "cell_type": "code",
   "execution_count": 48,
   "id": "aaeb769e",
   "metadata": {},
   "outputs": [
    {
     "data": {
      "text/html": [
       "<div>\n",
       "<style scoped>\n",
       "    .dataframe tbody tr th:only-of-type {\n",
       "        vertical-align: middle;\n",
       "    }\n",
       "\n",
       "    .dataframe tbody tr th {\n",
       "        vertical-align: top;\n",
       "    }\n",
       "\n",
       "    .dataframe thead th {\n",
       "        text-align: right;\n",
       "    }\n",
       "</style>\n",
       "<table border=\"1\" class=\"dataframe\">\n",
       "  <thead>\n",
       "    <tr style=\"text-align: right;\">\n",
       "      <th></th>\n",
       "      <th>percent_change_price</th>\n",
       "      <th>close</th>\n",
       "      <th>open</th>\n",
       "    </tr>\n",
       "    <tr>\n",
       "      <th>date</th>\n",
       "      <th></th>\n",
       "      <th></th>\n",
       "      <th></th>\n",
       "    </tr>\n",
       "  </thead>\n",
       "  <tbody>\n",
       "    <tr>\n",
       "      <th>2011-06-12</th>\n",
       "      <td>-0.34</td>\n",
       "      <td>169.7</td>\n",
       "      <td>169.12</td>\n",
       "    </tr>\n",
       "    <tr>\n",
       "      <th>2011-06-19</th>\n",
       "      <td>-0.34</td>\n",
       "      <td>169.7</td>\n",
       "      <td>169.12</td>\n",
       "    </tr>\n",
       "    <tr>\n",
       "      <th>2011-06-26</th>\n",
       "      <td>-0.34</td>\n",
       "      <td>169.7</td>\n",
       "      <td>169.12</td>\n",
       "    </tr>\n",
       "    <tr>\n",
       "      <th>2011-07-03</th>\n",
       "      <td>-0.34</td>\n",
       "      <td>169.7</td>\n",
       "      <td>169.12</td>\n",
       "    </tr>\n",
       "    <tr>\n",
       "      <th>2011-07-10</th>\n",
       "      <td>-0.34</td>\n",
       "      <td>169.7</td>\n",
       "      <td>169.12</td>\n",
       "    </tr>\n",
       "  </tbody>\n",
       "</table>\n",
       "</div>"
      ],
      "text/plain": [
       "            percent_change_price  close    open\n",
       "date                                           \n",
       "2011-06-12                 -0.34  169.7  169.12\n",
       "2011-06-19                 -0.34  169.7  169.12\n",
       "2011-06-26                 -0.34  169.7  169.12\n",
       "2011-07-03                 -0.34  169.7  169.12\n",
       "2011-07-10                 -0.34  169.7  169.12"
      ]
     },
     "execution_count": 48,
     "metadata": {},
     "output_type": "execute_result"
    }
   ],
   "source": [
    "yhat_df = make_predictions(rolling_change, rolling_open, rolling_close)\n",
    "yhat_df.head()"
   ]
  },
  {
   "cell_type": "code",
   "execution_count": 49,
   "id": "74fcfbea",
   "metadata": {},
   "outputs": [
    {
     "name": "stdout",
     "output_type": "stream",
     "text": [
      "percent_change_price -- RMSE: 0\n",
      "close -- RMSE: 141\n",
      "open -- RMSE: 141\n"
     ]
    }
   ],
   "source": [
    "for col in train.columns:\n",
    "    plot_and_eval(col)"
   ]
  },
  {
   "cell_type": "code",
   "execution_count": 50,
   "id": "f1da50da",
   "metadata": {},
   "outputs": [
    {
     "data": {
      "text/html": [
       "<div>\n",
       "<style scoped>\n",
       "    .dataframe tbody tr th:only-of-type {\n",
       "        vertical-align: middle;\n",
       "    }\n",
       "\n",
       "    .dataframe tbody tr th {\n",
       "        vertical-align: top;\n",
       "    }\n",
       "\n",
       "    .dataframe thead th {\n",
       "        text-align: right;\n",
       "    }\n",
       "</style>\n",
       "<table border=\"1\" class=\"dataframe\">\n",
       "  <thead>\n",
       "    <tr style=\"text-align: right;\">\n",
       "      <th></th>\n",
       "      <th>model_type</th>\n",
       "      <th>target_var</th>\n",
       "      <th>rmse</th>\n",
       "    </tr>\n",
       "  </thead>\n",
       "  <tbody>\n",
       "    <tr>\n",
       "      <th>0</th>\n",
       "      <td>last_observed_value</td>\n",
       "      <td>percent_change_price</td>\n",
       "      <td>2.0</td>\n",
       "    </tr>\n",
       "    <tr>\n",
       "      <th>1</th>\n",
       "      <td>last_observed_value</td>\n",
       "      <td>close</td>\n",
       "      <td>141.0</td>\n",
       "    </tr>\n",
       "    <tr>\n",
       "      <th>2</th>\n",
       "      <td>last_observed_value</td>\n",
       "      <td>open</td>\n",
       "      <td>143.0</td>\n",
       "    </tr>\n",
       "    <tr>\n",
       "      <th>3</th>\n",
       "      <td>simple_average</td>\n",
       "      <td>percent_change_price</td>\n",
       "      <td>1.0</td>\n",
       "    </tr>\n",
       "    <tr>\n",
       "      <th>4</th>\n",
       "      <td>simple_average</td>\n",
       "      <td>close</td>\n",
       "      <td>112.0</td>\n",
       "    </tr>\n",
       "    <tr>\n",
       "      <th>5</th>\n",
       "      <td>simple_average</td>\n",
       "      <td>open</td>\n",
       "      <td>112.0</td>\n",
       "    </tr>\n",
       "    <tr>\n",
       "      <th>6</th>\n",
       "      <td>4week_moving_avg</td>\n",
       "      <td>percent_change_price</td>\n",
       "      <td>0.0</td>\n",
       "    </tr>\n",
       "    <tr>\n",
       "      <th>7</th>\n",
       "      <td>4week_moving_avg</td>\n",
       "      <td>close</td>\n",
       "      <td>141.0</td>\n",
       "    </tr>\n",
       "    <tr>\n",
       "      <th>8</th>\n",
       "      <td>4week_moving_avg</td>\n",
       "      <td>open</td>\n",
       "      <td>141.0</td>\n",
       "    </tr>\n",
       "  </tbody>\n",
       "</table>\n",
       "</div>"
      ],
      "text/plain": [
       "            model_type            target_var   rmse\n",
       "0  last_observed_value  percent_change_price    2.0\n",
       "1  last_observed_value                 close  141.0\n",
       "2  last_observed_value                  open  143.0\n",
       "3       simple_average  percent_change_price    1.0\n",
       "4       simple_average                 close  112.0\n",
       "5       simple_average                  open  112.0\n",
       "6     4week_moving_avg  percent_change_price    0.0\n",
       "7     4week_moving_avg                 close  141.0\n",
       "8     4week_moving_avg                  open  141.0"
      ]
     },
     "execution_count": 50,
     "metadata": {},
     "output_type": "execute_result"
    }
   ],
   "source": [
    "for col in train.columns:\n",
    "    eval_df = append_eval_df(model_type = '4week_moving_avg', \n",
    "                            target_var = col)\n",
    "\n",
    "eval_df"
   ]
  },
  {
   "cell_type": "code",
   "execution_count": 51,
   "id": "d81cdd6d",
   "metadata": {},
   "outputs": [],
   "source": [
    "periods = [2, 6, 12, 16, 20]\n",
    "\n",
    "for p in periods: \n",
    "    rolling_change = round(train['percent_change_price'].rolling(p).mean()[-1], 2)\n",
    "    rolling_close = round(train['close'].rolling(p).mean()[-1], 2)\n",
    "    rolling_open = round(train['open'].rolling(p).mean()[-1], 2)\n",
    "    yhat_df = make_predictions(rolling_change, rolling_open, rolling_close)\n",
    "    model_type = str(p) + '_week_moving_avg'\n",
    "    for col in train.columns:\n",
    "        eval_df = append_eval_df(model_type = model_type,\n",
    "                                target_var = col)"
   ]
  },
  {
   "cell_type": "code",
   "execution_count": 52,
   "id": "31bbc347",
   "metadata": {},
   "outputs": [
    {
     "data": {
      "text/html": [
       "<div>\n",
       "<style scoped>\n",
       "    .dataframe tbody tr th:only-of-type {\n",
       "        vertical-align: middle;\n",
       "    }\n",
       "\n",
       "    .dataframe tbody tr th {\n",
       "        vertical-align: top;\n",
       "    }\n",
       "\n",
       "    .dataframe thead th {\n",
       "        text-align: right;\n",
       "    }\n",
       "</style>\n",
       "<table border=\"1\" class=\"dataframe\">\n",
       "  <thead>\n",
       "    <tr style=\"text-align: right;\">\n",
       "      <th></th>\n",
       "      <th>model_type</th>\n",
       "      <th>target_var</th>\n",
       "      <th>rmse</th>\n",
       "    </tr>\n",
       "  </thead>\n",
       "  <tbody>\n",
       "    <tr>\n",
       "      <th>0</th>\n",
       "      <td>last_observed_value</td>\n",
       "      <td>percent_change_price</td>\n",
       "      <td>2.0</td>\n",
       "    </tr>\n",
       "    <tr>\n",
       "      <th>1</th>\n",
       "      <td>last_observed_value</td>\n",
       "      <td>close</td>\n",
       "      <td>141.0</td>\n",
       "    </tr>\n",
       "    <tr>\n",
       "      <th>2</th>\n",
       "      <td>last_observed_value</td>\n",
       "      <td>open</td>\n",
       "      <td>143.0</td>\n",
       "    </tr>\n",
       "    <tr>\n",
       "      <th>3</th>\n",
       "      <td>simple_average</td>\n",
       "      <td>percent_change_price</td>\n",
       "      <td>1.0</td>\n",
       "    </tr>\n",
       "    <tr>\n",
       "      <th>4</th>\n",
       "      <td>simple_average</td>\n",
       "      <td>close</td>\n",
       "      <td>112.0</td>\n",
       "    </tr>\n",
       "    <tr>\n",
       "      <th>5</th>\n",
       "      <td>simple_average</td>\n",
       "      <td>open</td>\n",
       "      <td>112.0</td>\n",
       "    </tr>\n",
       "    <tr>\n",
       "      <th>6</th>\n",
       "      <td>4week_moving_avg</td>\n",
       "      <td>percent_change_price</td>\n",
       "      <td>0.0</td>\n",
       "    </tr>\n",
       "    <tr>\n",
       "      <th>7</th>\n",
       "      <td>4week_moving_avg</td>\n",
       "      <td>close</td>\n",
       "      <td>141.0</td>\n",
       "    </tr>\n",
       "    <tr>\n",
       "      <th>8</th>\n",
       "      <td>4week_moving_avg</td>\n",
       "      <td>open</td>\n",
       "      <td>141.0</td>\n",
       "    </tr>\n",
       "    <tr>\n",
       "      <th>9</th>\n",
       "      <td>2_week_moving_avg</td>\n",
       "      <td>percent_change_price</td>\n",
       "      <td>1.0</td>\n",
       "    </tr>\n",
       "    <tr>\n",
       "      <th>10</th>\n",
       "      <td>2_week_moving_avg</td>\n",
       "      <td>close</td>\n",
       "      <td>142.0</td>\n",
       "    </tr>\n",
       "    <tr>\n",
       "      <th>11</th>\n",
       "      <td>2_week_moving_avg</td>\n",
       "      <td>open</td>\n",
       "      <td>140.0</td>\n",
       "    </tr>\n",
       "    <tr>\n",
       "      <th>12</th>\n",
       "      <td>6_week_moving_avg</td>\n",
       "      <td>percent_change_price</td>\n",
       "      <td>0.0</td>\n",
       "    </tr>\n",
       "    <tr>\n",
       "      <th>13</th>\n",
       "      <td>6_week_moving_avg</td>\n",
       "      <td>close</td>\n",
       "      <td>118.0</td>\n",
       "    </tr>\n",
       "    <tr>\n",
       "      <th>14</th>\n",
       "      <td>6_week_moving_avg</td>\n",
       "      <td>open</td>\n",
       "      <td>118.0</td>\n",
       "    </tr>\n",
       "    <tr>\n",
       "      <th>15</th>\n",
       "      <td>12_week_moving_avg</td>\n",
       "      <td>percent_change_price</td>\n",
       "      <td>1.0</td>\n",
       "    </tr>\n",
       "    <tr>\n",
       "      <th>16</th>\n",
       "      <td>12_week_moving_avg</td>\n",
       "      <td>close</td>\n",
       "      <td>126.0</td>\n",
       "    </tr>\n",
       "    <tr>\n",
       "      <th>17</th>\n",
       "      <td>12_week_moving_avg</td>\n",
       "      <td>open</td>\n",
       "      <td>127.0</td>\n",
       "    </tr>\n",
       "    <tr>\n",
       "      <th>18</th>\n",
       "      <td>16_week_moving_avg</td>\n",
       "      <td>percent_change_price</td>\n",
       "      <td>0.0</td>\n",
       "    </tr>\n",
       "    <tr>\n",
       "      <th>19</th>\n",
       "      <td>16_week_moving_avg</td>\n",
       "      <td>close</td>\n",
       "      <td>121.0</td>\n",
       "    </tr>\n",
       "    <tr>\n",
       "      <th>20</th>\n",
       "      <td>16_week_moving_avg</td>\n",
       "      <td>open</td>\n",
       "      <td>121.0</td>\n",
       "    </tr>\n",
       "    <tr>\n",
       "      <th>21</th>\n",
       "      <td>20_week_moving_avg</td>\n",
       "      <td>percent_change_price</td>\n",
       "      <td>1.0</td>\n",
       "    </tr>\n",
       "    <tr>\n",
       "      <th>22</th>\n",
       "      <td>20_week_moving_avg</td>\n",
       "      <td>close</td>\n",
       "      <td>110.0</td>\n",
       "    </tr>\n",
       "    <tr>\n",
       "      <th>23</th>\n",
       "      <td>20_week_moving_avg</td>\n",
       "      <td>open</td>\n",
       "      <td>111.0</td>\n",
       "    </tr>\n",
       "  </tbody>\n",
       "</table>\n",
       "</div>"
      ],
      "text/plain": [
       "             model_type            target_var   rmse\n",
       "0   last_observed_value  percent_change_price    2.0\n",
       "1   last_observed_value                 close  141.0\n",
       "2   last_observed_value                  open  143.0\n",
       "3        simple_average  percent_change_price    1.0\n",
       "4        simple_average                 close  112.0\n",
       "5        simple_average                  open  112.0\n",
       "6      4week_moving_avg  percent_change_price    0.0\n",
       "7      4week_moving_avg                 close  141.0\n",
       "8      4week_moving_avg                  open  141.0\n",
       "9     2_week_moving_avg  percent_change_price    1.0\n",
       "10    2_week_moving_avg                 close  142.0\n",
       "11    2_week_moving_avg                  open  140.0\n",
       "12    6_week_moving_avg  percent_change_price    0.0\n",
       "13    6_week_moving_avg                 close  118.0\n",
       "14    6_week_moving_avg                  open  118.0\n",
       "15   12_week_moving_avg  percent_change_price    1.0\n",
       "16   12_week_moving_avg                 close  126.0\n",
       "17   12_week_moving_avg                  open  127.0\n",
       "18   16_week_moving_avg  percent_change_price    0.0\n",
       "19   16_week_moving_avg                 close  121.0\n",
       "20   16_week_moving_avg                  open  121.0\n",
       "21   20_week_moving_avg  percent_change_price    1.0\n",
       "22   20_week_moving_avg                 close  110.0\n",
       "23   20_week_moving_avg                  open  111.0"
      ]
     },
     "execution_count": 52,
     "metadata": {},
     "output_type": "execute_result"
    }
   ],
   "source": [
    "eval_df"
   ]
  },
  {
   "cell_type": "code",
   "execution_count": 53,
   "id": "0c9779cd",
   "metadata": {},
   "outputs": [
    {
     "name": "stdout",
     "output_type": "stream",
     "text": [
      "0.52 130.82 131.62\n"
     ]
    }
   ],
   "source": [
    "period=20\n",
    "# rolling avg over 20 weeks\n",
    "rolling_change = round(train['percent_change_price'].rolling(period).mean()[-1], 2)\n",
    "rolling_open = round(train['open'].rolling(period).mean()[-1], 2)\n",
    "rolling_close = round(train['close'].rolling(period).mean()[-1], 2)\n",
    "print(rolling_change, rolling_open, rolling_close)\n",
    "\n"
   ]
  },
  {
   "cell_type": "code",
   "execution_count": 54,
   "id": "48653769",
   "metadata": {},
   "outputs": [
    {
     "data": {
      "text/html": [
       "<div>\n",
       "<style scoped>\n",
       "    .dataframe tbody tr th:only-of-type {\n",
       "        vertical-align: middle;\n",
       "    }\n",
       "\n",
       "    .dataframe tbody tr th {\n",
       "        vertical-align: top;\n",
       "    }\n",
       "\n",
       "    .dataframe thead th {\n",
       "        text-align: right;\n",
       "    }\n",
       "</style>\n",
       "<table border=\"1\" class=\"dataframe\">\n",
       "  <thead>\n",
       "    <tr style=\"text-align: right;\">\n",
       "      <th></th>\n",
       "      <th>percent_change_price</th>\n",
       "      <th>close</th>\n",
       "      <th>open</th>\n",
       "    </tr>\n",
       "    <tr>\n",
       "      <th>date</th>\n",
       "      <th></th>\n",
       "      <th></th>\n",
       "      <th></th>\n",
       "    </tr>\n",
       "  </thead>\n",
       "  <tbody>\n",
       "    <tr>\n",
       "      <th>2011-06-12</th>\n",
       "      <td>0.52</td>\n",
       "      <td>130.82</td>\n",
       "      <td>131.62</td>\n",
       "    </tr>\n",
       "    <tr>\n",
       "      <th>2011-06-19</th>\n",
       "      <td>0.52</td>\n",
       "      <td>130.82</td>\n",
       "      <td>131.62</td>\n",
       "    </tr>\n",
       "    <tr>\n",
       "      <th>2011-06-26</th>\n",
       "      <td>0.52</td>\n",
       "      <td>130.82</td>\n",
       "      <td>131.62</td>\n",
       "    </tr>\n",
       "    <tr>\n",
       "      <th>2011-07-03</th>\n",
       "      <td>0.52</td>\n",
       "      <td>130.82</td>\n",
       "      <td>131.62</td>\n",
       "    </tr>\n",
       "    <tr>\n",
       "      <th>2011-07-10</th>\n",
       "      <td>0.52</td>\n",
       "      <td>130.82</td>\n",
       "      <td>131.62</td>\n",
       "    </tr>\n",
       "  </tbody>\n",
       "</table>\n",
       "</div>"
      ],
      "text/plain": [
       "            percent_change_price   close    open\n",
       "date                                            \n",
       "2011-06-12                  0.52  130.82  131.62\n",
       "2011-06-19                  0.52  130.82  131.62\n",
       "2011-06-26                  0.52  130.82  131.62\n",
       "2011-07-03                  0.52  130.82  131.62\n",
       "2011-07-10                  0.52  130.82  131.62"
      ]
     },
     "execution_count": 54,
     "metadata": {},
     "output_type": "execute_result"
    }
   ],
   "source": [
    "yhat_df = make_predictions(rolling_change, rolling_open, rolling_close)\n",
    "yhat_df.head()"
   ]
  },
  {
   "cell_type": "code",
   "execution_count": 55,
   "id": "4c7dc858",
   "metadata": {},
   "outputs": [
    {
     "name": "stdout",
     "output_type": "stream",
     "text": [
      "percent_change_price -- RMSE: 1\n",
      "close -- RMSE: 110\n",
      "open -- RMSE: 111\n"
     ]
    }
   ],
   "source": [
    "for col in train.columns:\n",
    "    plot_and_eval(col)"
   ]
  },
  {
   "cell_type": "code",
   "execution_count": 56,
   "id": "d39343cb",
   "metadata": {},
   "outputs": [],
   "source": [
    "min_change_rmse = eval_df[eval_df.target_var == 'percent_change_price']['rmse'].min()\n",
    "min_close_rmse = eval_df[eval_df.target_var == 'close']['rmse'].min()\n",
    "min_open_rmse = eval_df[eval_df.target_var == 'open']['rmse'].min()"
   ]
  },
  {
   "cell_type": "code",
   "execution_count": 57,
   "id": "0562b296",
   "metadata": {},
   "outputs": [
    {
     "data": {
      "text/plain": [
       "(0.0, 110.0, 111.0)"
      ]
     },
     "execution_count": 57,
     "metadata": {},
     "output_type": "execute_result"
    }
   ],
   "source": [
    "min_change_rmse, min_close_rmse, min_open_rmse"
   ]
  },
  {
   "cell_type": "code",
   "execution_count": 58,
   "id": "41557d73",
   "metadata": {},
   "outputs": [
    {
     "data": {
      "text/html": [
       "<div>\n",
       "<style scoped>\n",
       "    .dataframe tbody tr th:only-of-type {\n",
       "        vertical-align: middle;\n",
       "    }\n",
       "\n",
       "    .dataframe tbody tr th {\n",
       "        vertical-align: top;\n",
       "    }\n",
       "\n",
       "    .dataframe thead th {\n",
       "        text-align: right;\n",
       "    }\n",
       "</style>\n",
       "<table border=\"1\" class=\"dataframe\">\n",
       "  <thead>\n",
       "    <tr style=\"text-align: right;\">\n",
       "      <th></th>\n",
       "      <th>model_type</th>\n",
       "      <th>target_var</th>\n",
       "      <th>rmse</th>\n",
       "    </tr>\n",
       "  </thead>\n",
       "  <tbody>\n",
       "    <tr>\n",
       "      <th>6</th>\n",
       "      <td>4week_moving_avg</td>\n",
       "      <td>percent_change_price</td>\n",
       "      <td>0.0</td>\n",
       "    </tr>\n",
       "    <tr>\n",
       "      <th>12</th>\n",
       "      <td>6_week_moving_avg</td>\n",
       "      <td>percent_change_price</td>\n",
       "      <td>0.0</td>\n",
       "    </tr>\n",
       "    <tr>\n",
       "      <th>18</th>\n",
       "      <td>16_week_moving_avg</td>\n",
       "      <td>percent_change_price</td>\n",
       "      <td>0.0</td>\n",
       "    </tr>\n",
       "  </tbody>\n",
       "</table>\n",
       "</div>"
      ],
      "text/plain": [
       "            model_type            target_var rmse\n",
       "6     4week_moving_avg  percent_change_price  0.0\n",
       "12   6_week_moving_avg  percent_change_price  0.0\n",
       "18  16_week_moving_avg  percent_change_price  0.0"
      ]
     },
     "execution_count": 58,
     "metadata": {},
     "output_type": "execute_result"
    }
   ],
   "source": [
    "eval_df[eval_df.rmse == min_change_rmse]"
   ]
  },
  {
   "cell_type": "code",
   "execution_count": 59,
   "id": "056255f5",
   "metadata": {},
   "outputs": [
    {
     "data": {
      "text/html": [
       "<div>\n",
       "<style scoped>\n",
       "    .dataframe tbody tr th:only-of-type {\n",
       "        vertical-align: middle;\n",
       "    }\n",
       "\n",
       "    .dataframe tbody tr th {\n",
       "        vertical-align: top;\n",
       "    }\n",
       "\n",
       "    .dataframe thead th {\n",
       "        text-align: right;\n",
       "    }\n",
       "</style>\n",
       "<table border=\"1\" class=\"dataframe\">\n",
       "  <thead>\n",
       "    <tr style=\"text-align: right;\">\n",
       "      <th></th>\n",
       "      <th>model_type</th>\n",
       "      <th>target_var</th>\n",
       "      <th>rmse</th>\n",
       "    </tr>\n",
       "  </thead>\n",
       "  <tbody>\n",
       "    <tr>\n",
       "      <th>23</th>\n",
       "      <td>20_week_moving_avg</td>\n",
       "      <td>open</td>\n",
       "      <td>111.0</td>\n",
       "    </tr>\n",
       "  </tbody>\n",
       "</table>\n",
       "</div>"
      ],
      "text/plain": [
       "            model_type target_var   rmse\n",
       "23  20_week_moving_avg       open  111.0"
      ]
     },
     "execution_count": 59,
     "metadata": {},
     "output_type": "execute_result"
    }
   ],
   "source": [
    "eval_df[eval_df.rmse == min_open_rmse]"
   ]
  },
  {
   "cell_type": "code",
   "execution_count": 60,
   "id": "f01a3daa",
   "metadata": {
    "scrolled": true
   },
   "outputs": [
    {
     "data": {
      "text/html": [
       "<div>\n",
       "<style scoped>\n",
       "    .dataframe tbody tr th:only-of-type {\n",
       "        vertical-align: middle;\n",
       "    }\n",
       "\n",
       "    .dataframe tbody tr th {\n",
       "        vertical-align: top;\n",
       "    }\n",
       "\n",
       "    .dataframe thead th {\n",
       "        text-align: right;\n",
       "    }\n",
       "</style>\n",
       "<table border=\"1\" class=\"dataframe\">\n",
       "  <thead>\n",
       "    <tr style=\"text-align: right;\">\n",
       "      <th></th>\n",
       "      <th>model_type</th>\n",
       "      <th>target_var</th>\n",
       "      <th>rmse</th>\n",
       "    </tr>\n",
       "  </thead>\n",
       "  <tbody>\n",
       "    <tr>\n",
       "      <th>22</th>\n",
       "      <td>20_week_moving_avg</td>\n",
       "      <td>close</td>\n",
       "      <td>110.0</td>\n",
       "    </tr>\n",
       "  </tbody>\n",
       "</table>\n",
       "</div>"
      ],
      "text/plain": [
       "            model_type target_var   rmse\n",
       "22  20_week_moving_avg      close  110.0"
      ]
     },
     "execution_count": 60,
     "metadata": {},
     "output_type": "execute_result"
    }
   ],
   "source": [
    "eval_df[eval_df.rmse == min_close_rmse]"
   ]
  },
  {
   "cell_type": "markdown",
   "id": "9f4239ea",
   "metadata": {},
   "source": [
    "## 20 week or 6 week seems to be the best performing model"
   ]
  },
  {
   "cell_type": "markdown",
   "id": "093bf924",
   "metadata": {},
   "source": [
    "# Captain Holt's linear trend"
   ]
  },
  {
   "cell_type": "code",
   "execution_count": 61,
   "id": "b980bd7c",
   "metadata": {},
   "outputs": [],
   "source": [
    "# just kidding, not enough cycles."
   ]
  },
  {
   "cell_type": "markdown",
   "id": "fec29f93",
   "metadata": {},
   "source": [
    "# Arima (derci)"
   ]
  },
  {
   "cell_type": "code",
   "execution_count": 62,
   "id": "e11c961f",
   "metadata": {},
   "outputs": [],
   "source": [
    "from statsmodels.tsa.stattools import adfuller"
   ]
  },
  {
   "cell_type": "code",
   "execution_count": 63,
   "id": "a038d2f4",
   "metadata": {},
   "outputs": [],
   "source": [
    "for col in train.columns:\n",
    "    test_result=adfuller(train[col])"
   ]
  },
  {
   "cell_type": "markdown",
   "id": "367c2373",
   "metadata": {},
   "source": [
    "## Is the data stationary or non stationary?"
   ]
  },
  {
   "cell_type": "code",
   "execution_count": 64,
   "id": "0980d45d",
   "metadata": {},
   "outputs": [
    {
     "name": "stdout",
     "output_type": "stream",
     "text": [
      "ADF Test Statistic : -2.9368757468787683\n",
      "p-value : 0.04122483301981415\n",
      "#Lags Used : 0\n",
      "Number of Observations : 21\n",
      "strong evidence against the null hypothesis(Ho), reject the null hypothesis. Data is stationary\n"
     ]
    }
   ],
   "source": [
    "def adfuller_test(col):\n",
    "    result=adfuller(col)\n",
    "    labels = ['ADF Test Statistic','p-value','#Lags Used','Number of Observations']\n",
    "    for value,label in zip(result,labels):\n",
    "        print(label+' : '+str(value) )\n",
    "\n",
    "    if result[1] <= 0.05:\n",
    "        print(\"strong evidence against the null hypothesis(Ho), reject the null hypothesis. Data is stationary\")\n",
    "    else:\n",
    "        print(\"weak evidence against null hypothesis,indicating it is non-stationary \")\n",
    "\n",
    "adfuller_test(train['percent_change_price'])"
   ]
  },
  {
   "cell_type": "code",
   "execution_count": 65,
   "id": "be2d0adb",
   "metadata": {},
   "outputs": [
    {
     "name": "stdout",
     "output_type": "stream",
     "text": [
      "ADF Test Statistic : -3.776239653586092\n",
      "p-value : 0.0031599872555896544\n",
      "#Lags Used : 9\n",
      "Number of Observations : 12\n",
      "strong evidence against the null hypothesis(Ho), reject the null hypothesis. Data is stationary\n"
     ]
    }
   ],
   "source": [
    "adfuller_test(train['close'])"
   ]
  },
  {
   "cell_type": "code",
   "execution_count": 66,
   "id": "e382f3d2",
   "metadata": {},
   "outputs": [
    {
     "name": "stdout",
     "output_type": "stream",
     "text": [
      "ADF Test Statistic : -3.16880317311816\n",
      "p-value : 0.021862991818074988\n",
      "#Lags Used : 9\n",
      "Number of Observations : 12\n",
      "strong evidence against the null hypothesis(Ho), reject the null hypothesis. Data is stationary\n"
     ]
    }
   ],
   "source": [
    "adfuller_test(train['open'])"
   ]
  },
  {
   "cell_type": "code",
   "execution_count": 67,
   "id": "53e81b79",
   "metadata": {},
   "outputs": [
    {
     "data": {
      "text/html": [
       "<div>\n",
       "<style scoped>\n",
       "    .dataframe tbody tr th:only-of-type {\n",
       "        vertical-align: middle;\n",
       "    }\n",
       "\n",
       "    .dataframe tbody tr th {\n",
       "        vertical-align: top;\n",
       "    }\n",
       "\n",
       "    .dataframe thead th {\n",
       "        text-align: right;\n",
       "    }\n",
       "</style>\n",
       "<table border=\"1\" class=\"dataframe\">\n",
       "  <thead>\n",
       "    <tr style=\"text-align: right;\">\n",
       "      <th></th>\n",
       "      <th>percent_change_price</th>\n",
       "      <th>close</th>\n",
       "      <th>open</th>\n",
       "      <th>Change First Difference</th>\n",
       "      <th>Change Seasonal First Difference</th>\n",
       "    </tr>\n",
       "    <tr>\n",
       "      <th>date</th>\n",
       "      <th></th>\n",
       "      <th></th>\n",
       "      <th></th>\n",
       "      <th></th>\n",
       "      <th></th>\n",
       "    </tr>\n",
       "  </thead>\n",
       "  <tbody>\n",
       "    <tr>\n",
       "      <th>2011-01-09</th>\n",
       "      <td>1.68998</td>\n",
       "      <td>164.27</td>\n",
       "      <td>161.54</td>\n",
       "      <td>NaN</td>\n",
       "      <td>NaN</td>\n",
       "    </tr>\n",
       "    <tr>\n",
       "      <th>2011-01-16</th>\n",
       "      <td>2.04082</td>\n",
       "      <td>150.00</td>\n",
       "      <td>147.00</td>\n",
       "      <td>0.35084</td>\n",
       "      <td>NaN</td>\n",
       "    </tr>\n",
       "    <tr>\n",
       "      <th>2011-01-23</th>\n",
       "      <td>3.79122</td>\n",
       "      <td>155.50</td>\n",
       "      <td>149.82</td>\n",
       "      <td>1.75040</td>\n",
       "      <td>NaN</td>\n",
       "    </tr>\n",
       "    <tr>\n",
       "      <th>2011-01-30</th>\n",
       "      <td>2.43855</td>\n",
       "      <td>159.21</td>\n",
       "      <td>155.42</td>\n",
       "      <td>-1.35267</td>\n",
       "      <td>NaN</td>\n",
       "    </tr>\n",
       "    <tr>\n",
       "      <th>2011-02-06</th>\n",
       "      <td>0.00000</td>\n",
       "      <td>0.00</td>\n",
       "      <td>0.00</td>\n",
       "      <td>-2.43855</td>\n",
       "      <td>NaN</td>\n",
       "    </tr>\n",
       "  </tbody>\n",
       "</table>\n",
       "</div>"
      ],
      "text/plain": [
       "            percent_change_price   close    open  Change First Difference  \\\n",
       "date                                                                        \n",
       "2011-01-09               1.68998  164.27  161.54                      NaN   \n",
       "2011-01-16               2.04082  150.00  147.00                  0.35084   \n",
       "2011-01-23               3.79122  155.50  149.82                  1.75040   \n",
       "2011-01-30               2.43855  159.21  155.42                 -1.35267   \n",
       "2011-02-06               0.00000    0.00    0.00                 -2.43855   \n",
       "\n",
       "            Change Seasonal First Difference  \n",
       "date                                          \n",
       "2011-01-09                               NaN  \n",
       "2011-01-16                               NaN  \n",
       "2011-01-23                               NaN  \n",
       "2011-01-30                               NaN  \n",
       "2011-02-06                               NaN  "
      ]
     },
     "execution_count": 67,
     "metadata": {},
     "output_type": "execute_result"
    }
   ],
   "source": [
    "train['Change First Difference'] = train['percent_change_price'] - train['percent_change_price'].shift(1)\n",
    "train['Change Seasonal First Difference']=train['percent_change_price']-train['percent_change_price'].shift(12)\n",
    "train.head()"
   ]
  },
  {
   "cell_type": "code",
   "execution_count": 68,
   "id": "4391a5d0",
   "metadata": {},
   "outputs": [
    {
     "data": {
      "text/html": [
       "<div>\n",
       "<style scoped>\n",
       "    .dataframe tbody tr th:only-of-type {\n",
       "        vertical-align: middle;\n",
       "    }\n",
       "\n",
       "    .dataframe tbody tr th {\n",
       "        vertical-align: top;\n",
       "    }\n",
       "\n",
       "    .dataframe thead th {\n",
       "        text-align: right;\n",
       "    }\n",
       "</style>\n",
       "<table border=\"1\" class=\"dataframe\">\n",
       "  <thead>\n",
       "    <tr style=\"text-align: right;\">\n",
       "      <th></th>\n",
       "      <th>percent_change_price</th>\n",
       "      <th>close</th>\n",
       "      <th>open</th>\n",
       "      <th>Change First Difference</th>\n",
       "      <th>Change Seasonal First Difference</th>\n",
       "      <th>closeChange First Difference</th>\n",
       "      <th>Close Seasonal First Difference</th>\n",
       "    </tr>\n",
       "    <tr>\n",
       "      <th>date</th>\n",
       "      <th></th>\n",
       "      <th></th>\n",
       "      <th></th>\n",
       "      <th></th>\n",
       "      <th></th>\n",
       "      <th></th>\n",
       "      <th></th>\n",
       "    </tr>\n",
       "  </thead>\n",
       "  <tbody>\n",
       "    <tr>\n",
       "      <th>2011-01-09</th>\n",
       "      <td>1.68998</td>\n",
       "      <td>164.27</td>\n",
       "      <td>161.54</td>\n",
       "      <td>NaN</td>\n",
       "      <td>NaN</td>\n",
       "      <td>NaN</td>\n",
       "      <td>NaN</td>\n",
       "    </tr>\n",
       "    <tr>\n",
       "      <th>2011-01-16</th>\n",
       "      <td>2.04082</td>\n",
       "      <td>150.00</td>\n",
       "      <td>147.00</td>\n",
       "      <td>0.35084</td>\n",
       "      <td>NaN</td>\n",
       "      <td>-14.27</td>\n",
       "      <td>NaN</td>\n",
       "    </tr>\n",
       "    <tr>\n",
       "      <th>2011-01-23</th>\n",
       "      <td>3.79122</td>\n",
       "      <td>155.50</td>\n",
       "      <td>149.82</td>\n",
       "      <td>1.75040</td>\n",
       "      <td>NaN</td>\n",
       "      <td>5.50</td>\n",
       "      <td>NaN</td>\n",
       "    </tr>\n",
       "    <tr>\n",
       "      <th>2011-01-30</th>\n",
       "      <td>2.43855</td>\n",
       "      <td>159.21</td>\n",
       "      <td>155.42</td>\n",
       "      <td>-1.35267</td>\n",
       "      <td>NaN</td>\n",
       "      <td>3.71</td>\n",
       "      <td>NaN</td>\n",
       "    </tr>\n",
       "    <tr>\n",
       "      <th>2011-02-06</th>\n",
       "      <td>0.00000</td>\n",
       "      <td>0.00</td>\n",
       "      <td>0.00</td>\n",
       "      <td>-2.43855</td>\n",
       "      <td>NaN</td>\n",
       "      <td>-159.21</td>\n",
       "      <td>NaN</td>\n",
       "    </tr>\n",
       "  </tbody>\n",
       "</table>\n",
       "</div>"
      ],
      "text/plain": [
       "            percent_change_price   close    open  Change First Difference  \\\n",
       "date                                                                        \n",
       "2011-01-09               1.68998  164.27  161.54                      NaN   \n",
       "2011-01-16               2.04082  150.00  147.00                  0.35084   \n",
       "2011-01-23               3.79122  155.50  149.82                  1.75040   \n",
       "2011-01-30               2.43855  159.21  155.42                 -1.35267   \n",
       "2011-02-06               0.00000    0.00    0.00                 -2.43855   \n",
       "\n",
       "            Change Seasonal First Difference  closeChange First Difference  \\\n",
       "date                                                                         \n",
       "2011-01-09                               NaN                           NaN   \n",
       "2011-01-16                               NaN                        -14.27   \n",
       "2011-01-23                               NaN                          5.50   \n",
       "2011-01-30                               NaN                          3.71   \n",
       "2011-02-06                               NaN                       -159.21   \n",
       "\n",
       "            Close Seasonal First Difference  \n",
       "date                                         \n",
       "2011-01-09                              NaN  \n",
       "2011-01-16                              NaN  \n",
       "2011-01-23                              NaN  \n",
       "2011-01-30                              NaN  \n",
       "2011-02-06                              NaN  "
      ]
     },
     "execution_count": 68,
     "metadata": {},
     "output_type": "execute_result"
    }
   ],
   "source": [
    "train['closeChange First Difference'] = train['close'] - train['close'].shift(1)\n",
    "train['Close Seasonal First Difference']=train['close']-train['close'].shift(12)\n",
    "train.head()"
   ]
  },
  {
   "cell_type": "code",
   "execution_count": 69,
   "id": "d66782f9",
   "metadata": {},
   "outputs": [
    {
     "data": {
      "text/html": [
       "<div>\n",
       "<style scoped>\n",
       "    .dataframe tbody tr th:only-of-type {\n",
       "        vertical-align: middle;\n",
       "    }\n",
       "\n",
       "    .dataframe tbody tr th {\n",
       "        vertical-align: top;\n",
       "    }\n",
       "\n",
       "    .dataframe thead th {\n",
       "        text-align: right;\n",
       "    }\n",
       "</style>\n",
       "<table border=\"1\" class=\"dataframe\">\n",
       "  <thead>\n",
       "    <tr style=\"text-align: right;\">\n",
       "      <th></th>\n",
       "      <th>percent_change_price</th>\n",
       "      <th>close</th>\n",
       "      <th>open</th>\n",
       "      <th>Change First Difference</th>\n",
       "      <th>Change Seasonal First Difference</th>\n",
       "      <th>closeChange First Difference</th>\n",
       "      <th>Close Seasonal First Difference</th>\n",
       "      <th>Open Change First Difference</th>\n",
       "      <th>Open Seasonal First Difference</th>\n",
       "    </tr>\n",
       "    <tr>\n",
       "      <th>date</th>\n",
       "      <th></th>\n",
       "      <th></th>\n",
       "      <th></th>\n",
       "      <th></th>\n",
       "      <th></th>\n",
       "      <th></th>\n",
       "      <th></th>\n",
       "      <th></th>\n",
       "      <th></th>\n",
       "    </tr>\n",
       "  </thead>\n",
       "  <tbody>\n",
       "    <tr>\n",
       "      <th>2011-01-09</th>\n",
       "      <td>1.68998</td>\n",
       "      <td>164.27</td>\n",
       "      <td>161.54</td>\n",
       "      <td>NaN</td>\n",
       "      <td>NaN</td>\n",
       "      <td>NaN</td>\n",
       "      <td>NaN</td>\n",
       "      <td>NaN</td>\n",
       "      <td>NaN</td>\n",
       "    </tr>\n",
       "    <tr>\n",
       "      <th>2011-01-16</th>\n",
       "      <td>2.04082</td>\n",
       "      <td>150.00</td>\n",
       "      <td>147.00</td>\n",
       "      <td>0.35084</td>\n",
       "      <td>NaN</td>\n",
       "      <td>-14.27</td>\n",
       "      <td>NaN</td>\n",
       "      <td>-14.54</td>\n",
       "      <td>NaN</td>\n",
       "    </tr>\n",
       "    <tr>\n",
       "      <th>2011-01-23</th>\n",
       "      <td>3.79122</td>\n",
       "      <td>155.50</td>\n",
       "      <td>149.82</td>\n",
       "      <td>1.75040</td>\n",
       "      <td>NaN</td>\n",
       "      <td>5.50</td>\n",
       "      <td>NaN</td>\n",
       "      <td>2.82</td>\n",
       "      <td>NaN</td>\n",
       "    </tr>\n",
       "    <tr>\n",
       "      <th>2011-01-30</th>\n",
       "      <td>2.43855</td>\n",
       "      <td>159.21</td>\n",
       "      <td>155.42</td>\n",
       "      <td>-1.35267</td>\n",
       "      <td>NaN</td>\n",
       "      <td>3.71</td>\n",
       "      <td>NaN</td>\n",
       "      <td>5.60</td>\n",
       "      <td>NaN</td>\n",
       "    </tr>\n",
       "    <tr>\n",
       "      <th>2011-02-06</th>\n",
       "      <td>0.00000</td>\n",
       "      <td>0.00</td>\n",
       "      <td>0.00</td>\n",
       "      <td>-2.43855</td>\n",
       "      <td>NaN</td>\n",
       "      <td>-159.21</td>\n",
       "      <td>NaN</td>\n",
       "      <td>-155.42</td>\n",
       "      <td>NaN</td>\n",
       "    </tr>\n",
       "  </tbody>\n",
       "</table>\n",
       "</div>"
      ],
      "text/plain": [
       "            percent_change_price   close    open  Change First Difference  \\\n",
       "date                                                                        \n",
       "2011-01-09               1.68998  164.27  161.54                      NaN   \n",
       "2011-01-16               2.04082  150.00  147.00                  0.35084   \n",
       "2011-01-23               3.79122  155.50  149.82                  1.75040   \n",
       "2011-01-30               2.43855  159.21  155.42                 -1.35267   \n",
       "2011-02-06               0.00000    0.00    0.00                 -2.43855   \n",
       "\n",
       "            Change Seasonal First Difference  closeChange First Difference  \\\n",
       "date                                                                         \n",
       "2011-01-09                               NaN                           NaN   \n",
       "2011-01-16                               NaN                        -14.27   \n",
       "2011-01-23                               NaN                          5.50   \n",
       "2011-01-30                               NaN                          3.71   \n",
       "2011-02-06                               NaN                       -159.21   \n",
       "\n",
       "            Close Seasonal First Difference  Open Change First Difference  \\\n",
       "date                                                                        \n",
       "2011-01-09                              NaN                           NaN   \n",
       "2011-01-16                              NaN                        -14.54   \n",
       "2011-01-23                              NaN                          2.82   \n",
       "2011-01-30                              NaN                          5.60   \n",
       "2011-02-06                              NaN                       -155.42   \n",
       "\n",
       "            Open Seasonal First Difference  \n",
       "date                                        \n",
       "2011-01-09                             NaN  \n",
       "2011-01-16                             NaN  \n",
       "2011-01-23                             NaN  \n",
       "2011-01-30                             NaN  \n",
       "2011-02-06                             NaN  "
      ]
     },
     "execution_count": 69,
     "metadata": {},
     "output_type": "execute_result"
    }
   ],
   "source": [
    "train['Open Change First Difference'] = train['open'] - train['open'].shift(1)\n",
    "train['Open Seasonal First Difference']=train['open']-train['open'].shift(12)\n",
    "train.head()"
   ]
  },
  {
   "cell_type": "code",
   "execution_count": 93,
   "id": "79a71e48",
   "metadata": {},
   "outputs": [
    {
     "data": {
      "text/plain": [
       "<AxesSubplot:xlabel='date'>"
      ]
     },
     "execution_count": 93,
     "metadata": {},
     "output_type": "execute_result"
    },
    {
     "data": {
      "image/png": "[encoded data removed]",
      "text/plain": [
       "<Figure size 1440x432 with 1 Axes>"
      ]
     },
     "metadata": {
      "needs_background": "light"
     },
     "output_type": "display_data"
    }
   ],
   "source": [
    "train['Change Seasonal First Difference'].plot()"
   ]
  },
  {
   "cell_type": "code",
   "execution_count": 94,
   "id": "7296fd19",
   "metadata": {},
   "outputs": [
    {
     "data": {
      "text/plain": [
       "<AxesSubplot:xlabel='date'>"
      ]
     },
     "execution_count": 94,
     "metadata": {},
     "output_type": "execute_result"
    },
    {
     "data": {
      "image/png": "[encoded data removed]",
      "text/plain": [
       "<Figure size 1440x432 with 1 Axes>"
      ]
     },
     "metadata": {
      "needs_background": "light"
     },
     "output_type": "display_data"
    }
   ],
   "source": [
    "train['Open Seasonal First Difference'].plot()"
   ]
  },
  {
   "cell_type": "code",
   "execution_count": 95,
   "id": "496148fe",
   "metadata": {},
   "outputs": [
    {
     "data": {
      "text/plain": [
       "<AxesSubplot:xlabel='date'>"
      ]
     },
     "execution_count": 95,
     "metadata": {},
     "output_type": "execute_result"
    },
    {
     "data": {
      "image/png": "[encoded data removed]",
      "text/plain": [
       "<Figure size 1440x432 with 1 Axes>"
      ]
     },
     "metadata": {
      "needs_background": "light"
     },
     "output_type": "display_data"
    }
   ],
   "source": [
    "train['Close Seasonal First Difference'].plot()"
   ]
  },
  {
   "cell_type": "code",
   "execution_count": 96,
   "id": "bf5e1a2f",
   "metadata": {},
   "outputs": [],
   "source": [
    "from pandas.plotting import autocorrelation_plot\n"
   ]
  },
  {
   "cell_type": "code",
   "execution_count": 97,
   "id": "9be9ab77",
   "metadata": {},
   "outputs": [
    {
     "data": {
      "image/png": "[encoded data removed]",
      "text/plain": [
       "<Figure size 1440x432 with 1 Axes>"
      ]
     },
     "metadata": {
      "needs_background": "light"
     },
     "output_type": "display_data"
    }
   ],
   "source": [
    "autocorrelation_plot(train['percent_change_price'])\n",
    "plt.show()"
   ]
  },
  {
   "cell_type": "code",
   "execution_count": 82,
   "id": "572f8ef8",
   "metadata": {},
   "outputs": [
    {
     "data": {
      "text/html": [
       "<table class=\"simpletable\">\n",
       "<caption>SARIMAX Results</caption>\n",
       "<tr>\n",
       "  <th>Dep. Variable:</th>   <td>percent_change_price</td> <th>  No. Observations:  </th>   <td>22</td>   \n",
       "</tr>\n",
       "<tr>\n",
       "  <th>Model:</th>              <td>ARIMA(1, 1, 1)</td>    <th>  Log Likelihood     </th> <td>-41.738</td>\n",
       "</tr>\n",
       "<tr>\n",
       "  <th>Date:</th>              <td>Thu, 18 Aug 2022</td>   <th>  AIC                </th> <td>89.477</td> \n",
       "</tr>\n",
       "<tr>\n",
       "  <th>Time:</th>                  <td>22:49:50</td>       <th>  BIC                </th> <td>92.610</td> \n",
       "</tr>\n",
       "<tr>\n",
       "  <th>Sample:</th>               <td>01-09-2011</td>      <th>  HQIC               </th> <td>90.157</td> \n",
       "</tr>\n",
       "<tr>\n",
       "  <th></th>                     <td>- 06-05-2011</td>     <th>                     </th>    <td> </td>   \n",
       "</tr>\n",
       "<tr>\n",
       "  <th>Covariance Type:</th>          <td>opg</td>         <th>                     </th>    <td> </td>   \n",
       "</tr>\n",
       "</table>\n",
       "<table class=\"simpletable\">\n",
       "<tr>\n",
       "     <td></td>       <th>coef</th>     <th>std err</th>      <th>z</th>      <th>P>|z|</th>  <th>[0.025</th>    <th>0.975]</th>  \n",
       "</tr>\n",
       "<tr>\n",
       "  <th>ar.L1</th>  <td>    0.3861</td> <td>    0.441</td> <td>    0.875</td> <td> 0.381</td> <td>   -0.478</td> <td>    1.251</td>\n",
       "</tr>\n",
       "<tr>\n",
       "  <th>ma.L1</th>  <td>   -0.9993</td> <td>   40.075</td> <td>   -0.025</td> <td> 0.980</td> <td>  -79.545</td> <td>   77.547</td>\n",
       "</tr>\n",
       "<tr>\n",
       "  <th>sigma2</th> <td>    2.7921</td> <td>  110.890</td> <td>    0.025</td> <td> 0.980</td> <td> -214.549</td> <td>  220.133</td>\n",
       "</tr>\n",
       "</table>\n",
       "<table class=\"simpletable\">\n",
       "<tr>\n",
       "  <th>Ljung-Box (L1) (Q):</th>     <td>0.28</td> <th>  Jarque-Bera (JB):  </th> <td>0.88</td>\n",
       "</tr>\n",
       "<tr>\n",
       "  <th>Prob(Q):</th>                <td>0.60</td> <th>  Prob(JB):          </th> <td>0.64</td>\n",
       "</tr>\n",
       "<tr>\n",
       "  <th>Heteroskedasticity (H):</th> <td>0.73</td> <th>  Skew:              </th> <td>0.46</td>\n",
       "</tr>\n",
       "<tr>\n",
       "  <th>Prob(H) (two-sided):</th>    <td>0.69</td> <th>  Kurtosis:          </th> <td>3.38</td>\n",
       "</tr>\n",
       "</table><br/><br/>Warnings:<br/>[1] Covariance matrix calculated using the outer product of gradients (complex-step)."
      ],
      "text/plain": [
       "<class 'statsmodels.iolib.summary.Summary'>\n",
       "\"\"\"\n",
       "                                SARIMAX Results                                 \n",
       "================================================================================\n",
       "Dep. Variable:     percent_change_price   No. Observations:                   22\n",
       "Model:                   ARIMA(1, 1, 1)   Log Likelihood                 -41.738\n",
       "Date:                  Thu, 18 Aug 2022   AIC                             89.477\n",
       "Time:                          22:49:50   BIC                             92.610\n",
       "Sample:                      01-09-2011   HQIC                            90.157\n",
       "                           - 06-05-2011                                         \n",
       "Covariance Type:                    opg                                         \n",
       "==============================================================================\n",
       "                 coef    std err          z      P>|z|      [0.025      0.975]\n",
       "------------------------------------------------------------------------------\n",
       "ar.L1          0.3861      0.441      0.875      0.381      -0.478       1.251\n",
       "ma.L1         -0.9993     40.075     -0.025      0.980     -79.545      77.547\n",
       "sigma2         2.7921    110.890      0.025      0.980    -214.549     220.133\n",
       "===================================================================================\n",
       "Ljung-Box (L1) (Q):                   0.28   Jarque-Bera (JB):                 0.88\n",
       "Prob(Q):                              0.60   Prob(JB):                         0.64\n",
       "Heteroskedasticity (H):               0.73   Skew:                             0.46\n",
       "Prob(H) (two-sided):                  0.69   Kurtosis:                         3.38\n",
       "===================================================================================\n",
       "\n",
       "Warnings:\n",
       "[1] Covariance matrix calculated using the outer product of gradients (complex-step).\n",
       "\"\"\""
      ]
     },
     "execution_count": 82,
     "metadata": {},
     "output_type": "execute_result"
    }
   ],
   "source": [
    "from statsmodels.tsa.arima.model import ARIMA\n",
    "model=ARIMA(train['percent_change_price'],order=(1,1,1))\n",
    "model_fit=model.fit()\n",
    "model_fit.summary()"
   ]
  },
  {
   "cell_type": "code",
   "execution_count": 98,
   "id": "56180835",
   "metadata": {},
   "outputs": [
    {
     "data": {
      "text/plain": [
       "<AxesSubplot:xlabel='date'>"
      ]
     },
     "execution_count": 98,
     "metadata": {},
     "output_type": "execute_result"
    },
    {
     "data": {
      "image/png": "[encoded data removed]",
      "text/plain": [
       "<Figure size 864x576 with 1 Axes>"
      ]
     },
     "metadata": {
      "needs_background": "light"
     },
     "output_type": "display_data"
    }
   ],
   "source": [
    "train['forecast2']=model_fit.predict(start=90,end=103,dynamic=True)\n",
    "train[['percent_change_price','forecast2']].plot(figsize=(12,8))"
   ]
  },
  {
   "cell_type": "code",
   "execution_count": null,
   "id": "08d1403b",
   "metadata": {},
   "outputs": [],
   "source": []
  },
  {
   "cell_type": "code",
   "execution_count": 80,
   "id": "cb5a1dcc",
   "metadata": {},
   "outputs": [
    {
     "data": {
      "text/html": [
       "<table class=\"simpletable\">\n",
       "<caption>SARIMAX Results</caption>\n",
       "<tr>\n",
       "  <th>Dep. Variable:</th>         <td>close</td>      <th>  No. Observations:  </th>    <td>22</td>   \n",
       "</tr>\n",
       "<tr>\n",
       "  <th>Model:</th>            <td>ARIMA(1, 1, 1)</td>  <th>  Log Likelihood     </th> <td>-123.766</td>\n",
       "</tr>\n",
       "<tr>\n",
       "  <th>Date:</th>            <td>Thu, 18 Aug 2022</td> <th>  AIC                </th>  <td>253.533</td>\n",
       "</tr>\n",
       "<tr>\n",
       "  <th>Time:</th>                <td>22:48:47</td>     <th>  BIC                </th>  <td>256.666</td>\n",
       "</tr>\n",
       "<tr>\n",
       "  <th>Sample:</th>             <td>01-09-2011</td>    <th>  HQIC               </th>  <td>254.213</td>\n",
       "</tr>\n",
       "<tr>\n",
       "  <th></th>                   <td>- 06-05-2011</td>   <th>                     </th>     <td> </td>   \n",
       "</tr>\n",
       "<tr>\n",
       "  <th>Covariance Type:</th>        <td>opg</td>       <th>                     </th>     <td> </td>   \n",
       "</tr>\n",
       "</table>\n",
       "<table class=\"simpletable\">\n",
       "<tr>\n",
       "     <td></td>       <th>coef</th>     <th>std err</th>      <th>z</th>      <th>P>|z|</th>  <th>[0.025</th>    <th>0.975]</th>  \n",
       "</tr>\n",
       "<tr>\n",
       "  <th>ar.L1</th>  <td>   -0.1070</td> <td>    0.328</td> <td>   -0.326</td> <td> 0.744</td> <td>   -0.750</td> <td>    0.536</td>\n",
       "</tr>\n",
       "<tr>\n",
       "  <th>ma.L1</th>  <td>   -0.9990</td> <td>   40.499</td> <td>   -0.025</td> <td> 0.980</td> <td>  -80.376</td> <td>   78.378</td>\n",
       "</tr>\n",
       "<tr>\n",
       "  <th>sigma2</th> <td> 6597.4794</td> <td> 2.67e+05</td> <td>    0.025</td> <td> 0.980</td> <td>-5.16e+05</td> <td> 5.29e+05</td>\n",
       "</tr>\n",
       "</table>\n",
       "<table class=\"simpletable\">\n",
       "<tr>\n",
       "  <th>Ljung-Box (L1) (Q):</th>     <td>0.06</td> <th>  Jarque-Bera (JB):  </th> <td>0.13</td> \n",
       "</tr>\n",
       "<tr>\n",
       "  <th>Prob(Q):</th>                <td>0.80</td> <th>  Prob(JB):          </th> <td>0.94</td> \n",
       "</tr>\n",
       "<tr>\n",
       "  <th>Heteroskedasticity (H):</th> <td>0.63</td> <th>  Skew:              </th> <td>-0.15</td>\n",
       "</tr>\n",
       "<tr>\n",
       "  <th>Prob(H) (two-sided):</th>    <td>0.55</td> <th>  Kurtosis:          </th> <td>3.25</td> \n",
       "</tr>\n",
       "</table><br/><br/>Warnings:<br/>[1] Covariance matrix calculated using the outer product of gradients (complex-step)."
      ],
      "text/plain": [
       "<class 'statsmodels.iolib.summary.Summary'>\n",
       "\"\"\"\n",
       "                               SARIMAX Results                                \n",
       "==============================================================================\n",
       "Dep. Variable:                  close   No. Observations:                   22\n",
       "Model:                 ARIMA(1, 1, 1)   Log Likelihood                -123.766\n",
       "Date:                Thu, 18 Aug 2022   AIC                            253.533\n",
       "Time:                        22:48:47   BIC                            256.666\n",
       "Sample:                    01-09-2011   HQIC                           254.213\n",
       "                         - 06-05-2011                                         \n",
       "Covariance Type:                  opg                                         \n",
       "==============================================================================\n",
       "                 coef    std err          z      P>|z|      [0.025      0.975]\n",
       "------------------------------------------------------------------------------\n",
       "ar.L1         -0.1070      0.328     -0.326      0.744      -0.750       0.536\n",
       "ma.L1         -0.9990     40.499     -0.025      0.980     -80.376      78.378\n",
       "sigma2      6597.4794   2.67e+05      0.025      0.980   -5.16e+05    5.29e+05\n",
       "===================================================================================\n",
       "Ljung-Box (L1) (Q):                   0.06   Jarque-Bera (JB):                 0.13\n",
       "Prob(Q):                              0.80   Prob(JB):                         0.94\n",
       "Heteroskedasticity (H):               0.63   Skew:                            -0.15\n",
       "Prob(H) (two-sided):                  0.55   Kurtosis:                         3.25\n",
       "===================================================================================\n",
       "\n",
       "Warnings:\n",
       "[1] Covariance matrix calculated using the outer product of gradients (complex-step).\n",
       "\"\"\""
      ]
     },
     "execution_count": 80,
     "metadata": {},
     "output_type": "execute_result"
    }
   ],
   "source": [
    "\n",
    "model=ARIMA(train['close'],order=(1,1,1))\n",
    "model_fit=model.fit()\n",
    "model_fit.summary()"
   ]
  },
  {
   "cell_type": "code",
   "execution_count": 81,
   "id": "05d7ea77",
   "metadata": {},
   "outputs": [
    {
     "data": {
      "text/html": [
       "<table class=\"simpletable\">\n",
       "<caption>SARIMAX Results</caption>\n",
       "<tr>\n",
       "  <th>Dep. Variable:</th>         <td>open</td>       <th>  No. Observations:  </th>    <td>22</td>   \n",
       "</tr>\n",
       "<tr>\n",
       "  <th>Model:</th>            <td>ARIMA(1, 1, 1)</td>  <th>  Log Likelihood     </th> <td>-123.565</td>\n",
       "</tr>\n",
       "<tr>\n",
       "  <th>Date:</th>            <td>Thu, 18 Aug 2022</td> <th>  AIC                </th>  <td>253.130</td>\n",
       "</tr>\n",
       "<tr>\n",
       "  <th>Time:</th>                <td>22:49:13</td>     <th>  BIC                </th>  <td>256.263</td>\n",
       "</tr>\n",
       "<tr>\n",
       "  <th>Sample:</th>             <td>01-09-2011</td>    <th>  HQIC               </th>  <td>253.810</td>\n",
       "</tr>\n",
       "<tr>\n",
       "  <th></th>                   <td>- 06-05-2011</td>   <th>                     </th>     <td> </td>   \n",
       "</tr>\n",
       "<tr>\n",
       "  <th>Covariance Type:</th>        <td>opg</td>       <th>                     </th>     <td> </td>   \n",
       "</tr>\n",
       "</table>\n",
       "<table class=\"simpletable\">\n",
       "<tr>\n",
       "     <td></td>       <th>coef</th>     <th>std err</th>      <th>z</th>      <th>P>|z|</th>  <th>[0.025</th>    <th>0.975]</th>  \n",
       "</tr>\n",
       "<tr>\n",
       "  <th>ar.L1</th>  <td>   -0.1149</td> <td>    0.329</td> <td>   -0.350</td> <td> 0.727</td> <td>   -0.759</td> <td>    0.529</td>\n",
       "</tr>\n",
       "<tr>\n",
       "  <th>ma.L1</th>  <td>   -0.9991</td> <td>   43.669</td> <td>   -0.023</td> <td> 0.982</td> <td>  -86.588</td> <td>   84.590</td>\n",
       "</tr>\n",
       "<tr>\n",
       "  <th>sigma2</th> <td> 6467.1903</td> <td> 2.82e+05</td> <td>    0.023</td> <td> 0.982</td> <td>-5.46e+05</td> <td> 5.59e+05</td>\n",
       "</tr>\n",
       "</table>\n",
       "<table class=\"simpletable\">\n",
       "<tr>\n",
       "  <th>Ljung-Box (L1) (Q):</th>     <td>0.07</td> <th>  Jarque-Bera (JB):  </th> <td>0.12</td> \n",
       "</tr>\n",
       "<tr>\n",
       "  <th>Prob(Q):</th>                <td>0.80</td> <th>  Prob(JB):          </th> <td>0.94</td> \n",
       "</tr>\n",
       "<tr>\n",
       "  <th>Heteroskedasticity (H):</th> <td>0.64</td> <th>  Skew:              </th> <td>-0.16</td>\n",
       "</tr>\n",
       "<tr>\n",
       "  <th>Prob(H) (two-sided):</th>    <td>0.57</td> <th>  Kurtosis:          </th> <td>3.17</td> \n",
       "</tr>\n",
       "</table><br/><br/>Warnings:<br/>[1] Covariance matrix calculated using the outer product of gradients (complex-step)."
      ],
      "text/plain": [
       "<class 'statsmodels.iolib.summary.Summary'>\n",
       "\"\"\"\n",
       "                               SARIMAX Results                                \n",
       "==============================================================================\n",
       "Dep. Variable:                   open   No. Observations:                   22\n",
       "Model:                 ARIMA(1, 1, 1)   Log Likelihood                -123.565\n",
       "Date:                Thu, 18 Aug 2022   AIC                            253.130\n",
       "Time:                        22:49:13   BIC                            256.263\n",
       "Sample:                    01-09-2011   HQIC                           253.810\n",
       "                         - 06-05-2011                                         \n",
       "Covariance Type:                  opg                                         \n",
       "==============================================================================\n",
       "                 coef    std err          z      P>|z|      [0.025      0.975]\n",
       "------------------------------------------------------------------------------\n",
       "ar.L1         -0.1149      0.329     -0.350      0.727      -0.759       0.529\n",
       "ma.L1         -0.9991     43.669     -0.023      0.982     -86.588      84.590\n",
       "sigma2      6467.1903   2.82e+05      0.023      0.982   -5.46e+05    5.59e+05\n",
       "===================================================================================\n",
       "Ljung-Box (L1) (Q):                   0.07   Jarque-Bera (JB):                 0.12\n",
       "Prob(Q):                              0.80   Prob(JB):                         0.94\n",
       "Heteroskedasticity (H):               0.64   Skew:                            -0.16\n",
       "Prob(H) (two-sided):                  0.57   Kurtosis:                         3.17\n",
       "===================================================================================\n",
       "\n",
       "Warnings:\n",
       "[1] Covariance matrix calculated using the outer product of gradients (complex-step).\n",
       "\"\"\""
      ]
     },
     "execution_count": 81,
     "metadata": {},
     "output_type": "execute_result"
    }
   ],
   "source": [
    "\n",
    "model=ARIMA(train['open'],order=(1,1,1))\n",
    "model_fit=model.fit()\n",
    "model_fit.summary()"
   ]
  },
  {
   "cell_type": "code",
   "execution_count": null,
   "id": "d118c06a",
   "metadata": {},
   "outputs": [],
   "source": []
  },
  {
   "cell_type": "code",
   "execution_count": 99,
   "id": "420b0d21",
   "metadata": {
    "scrolled": false
   },
   "outputs": [
    {
     "name": "stdout",
     "output_type": "stream",
     "text": [
      "RUNNING THE L-BFGS-B CODE\n",
      "\n",
      "           * * *\n",
      "\n",
      "Machine precision = 2.220D-16\n",
      " N =            5     M =           10\n",
      "\n",
      "At X0         0 variables are exactly at the bounds\n",
      "\n",
      "At iterate    0    f=  9.38899D-01    |proj g|=  2.57817D-01\n",
      "\n",
      "At iterate    5    f=  7.89707D-01    |proj g|=  2.80049D-02\n",
      "\n",
      "At iterate   10    f=  7.82071D-01    |proj g|=  3.81418D-03\n",
      "\n",
      "At iterate   15    f=  7.81246D-01    |proj g|=  2.53031D-03\n",
      "\n",
      "At iterate   20    f=  7.81146D-01    |proj g|=  5.26943D-03\n",
      "\n",
      "At iterate   25    f=  7.81114D-01    |proj g|=  3.88955D-03\n",
      "\n",
      "At iterate   30    f=  7.81097D-01    |proj g|=  2.01145D-03\n",
      "\n",
      "At iterate   35    f=  7.81085D-01    |proj g|=  1.06569D-04\n",
      "\n",
      "At iterate   40    f=  7.81077D-01    |proj g|=  7.44791D-04\n"
     ]
    },
    {
     "name": "stderr",
     "output_type": "stream",
     "text": [
      " This problem is unconstrained.\n"
     ]
    },
    {
     "name": "stdout",
     "output_type": "stream",
     "text": [
      "\n",
      "At iterate   45    f=  7.81072D-01    |proj g|=  4.17906D-03\n",
      "\n",
      "At iterate   50    f=  7.81066D-01    |proj g|=  1.90742D-03\n",
      "\n",
      "           * * *\n",
      "\n",
      "Tit   = total number of iterations\n",
      "Tnf   = total number of function evaluations\n",
      "Tnint = total number of segments explored during Cauchy searches\n",
      "Skip  = number of BFGS updates skipped\n",
      "Nact  = number of active bounds at final generalized Cauchy point\n",
      "Projg = norm of the final projected gradient\n",
      "F     = final function value\n",
      "\n",
      "           * * *\n",
      "\n",
      "   N    Tit     Tnf  Tnint  Skip  Nact     Projg        F\n",
      "    5     50     62      1     0     0   1.907D-03   7.811D-01\n",
      "  F =  0.78106551076556707     \n",
      "\n",
      "STOP: TOTAL NO. of ITERATIONS REACHED LIMIT                 \n"
     ]
    },
    {
     "data": {
      "text/plain": [
       "<AxesSubplot:xlabel='date'>"
      ]
     },
     "execution_count": 99,
     "metadata": {},
     "output_type": "execute_result"
    },
    {
     "data": {
      "image/png": "[encoded data removed]",
      "text/plain": [
       "<Figure size 864x576 with 1 Axes>"
      ]
     },
     "metadata": {
      "needs_background": "light"
     },
     "output_type": "display_data"
    }
   ],
   "source": [
    "import statsmodels.api as sm\n",
    "model=sm.tsa.statespace.SARIMAX(train['percent_change_price'],order=(1, 1, 1),seasonal_order=(1,1,1,12))\n",
    "results=model.fit()\n",
    "train['forecast3']=results.predict(start=90,end=103,dynamic=True)\n",
    "train[['percent_change_price','forecast3']].plot(figsize=(12,8))"
   ]
  },
  {
   "cell_type": "code",
   "execution_count": 92,
   "id": "bb27780a",
   "metadata": {},
   "outputs": [
    {
     "data": {
      "text/plain": [
       "<AxesSubplot:>"
      ]
     },
     "execution_count": 92,
     "metadata": {},
     "output_type": "execute_result"
    },
    {
     "data": {
      "image/png": "[encoded data removed]",
      "text/plain": [
       "<Figure size 864x576 with 1 Axes>"
      ]
     },
     "metadata": {
      "needs_background": "light"
     },
     "output_type": "display_data"
    }
   ],
   "source": [
    "from pandas.tseries.offsets import DateOffset\n",
    "future_dates=[train.index[-1]+ DateOffset(months=x)for x in range(0,24)]\n",
    "future_datest_df=pd.DataFrame(index=future_dates[1:],columns=train.columns)\n",
    "\n",
    "future_datest_df.tail()\n",
    "\n",
    "future_df=pd.concat([train,future_datest_df])\n",
    "\n",
    "future_df['forecast'] = results.predict(start = 104, end = 120, dynamic= True)\n",
    "future_df[['percent_change_price', 'close', 'open', 'forecast']].plot(figsize=(12, 8))"
   ]
  },
  {
   "cell_type": "code",
   "execution_count": null,
   "id": "c59b1fd4",
   "metadata": {},
   "outputs": [],
   "source": []
  },
  {
   "cell_type": "code",
   "execution_count": null,
   "id": "ae4bd32d",
   "metadata": {},
   "outputs": [],
   "source": []
  },
  {
   "cell_type": "code",
   "execution_count": null,
   "id": "fa4c83c9",
   "metadata": {},
   "outputs": [],
   "source": []
  },
  {
   "cell_type": "code",
   "execution_count": null,
   "id": "ce94a47c",
   "metadata": {},
   "outputs": [],
   "source": []
  },
  {
   "cell_type": "code",
   "execution_count": null,
   "id": "c0d51171",
   "metadata": {},
   "outputs": [],
   "source": []
  },
  {
   "cell_type": "code",
   "execution_count": null,
   "id": "b65d5b90",
   "metadata": {},
   "outputs": [],
   "source": []
  },
  {
   "cell_type": "code",
   "execution_count": null,
   "id": "b69ae380",
   "metadata": {},
   "outputs": [],
   "source": []
  },
  {
   "cell_type": "code",
   "execution_count": null,
   "id": "97880406",
   "metadata": {},
   "outputs": [],
   "source": []
  }
 ],
 "metadata": {
  "kernelspec": {
   "display_name": "Python 3 (ipykernel)",
   "language": "python",
   "name": "python3"
  },
  "language_info": {
   "codemirror_mode": {
    "name": "ipython",
    "version": 3
   },
   "file_extension": ".py",
   "mimetype": "text/x-python",
   "name": "python",
   "nbconvert_exporter": "python",
   "pygments_lexer": "ipython3",
   "version": "3.9.12"
  }
 },
 "nbformat": 4,
 "nbformat_minor": 5
}
